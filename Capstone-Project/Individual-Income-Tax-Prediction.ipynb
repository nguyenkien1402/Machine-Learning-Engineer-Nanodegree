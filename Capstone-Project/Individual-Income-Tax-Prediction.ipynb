{
 "cells": [
  {
   "cell_type": "markdown",
   "metadata": {},
   "source": [
    "# Individual Income Tax Prediction\n",
    "\n",
    "## Overview\n",
    "\n",
    "After the tax reform recently, articles and analysis about tax are everywhere. Working as a tax analyst, I conduct data analysis over financial data every day for tax purposes, but I still find it is a pain to fill out my own individual tax return every year. You might think we can use Turbo tax or other tax preparation software to get them done, but were you ever curious about the amount you paid compared to others. Did you pay more than others or less? How’s the tax payment distribution amount US like? There are also people who have income other than salary need to figure out how much estimated tax they should pay by the end of the year to avoid fines and penalties. \n",
    "\n",
    "US has a very complicated tax system that not everyone has time to fully understand. Errors might happen when people type in or write down the wrong amount, and no one wants to be audited or get penalties from IRS. There is no benchmark for people to estimate their tax, other than their previous year return. What should we do if this is the first year return? What should we do if our income structure changes completely? How to minimize the potential errors? IRS has the database of the tax information in US for the past several years. If we have a model that can predict roughly about how much tax we owe each year, we will be able to understand if we need to pay estimate tax or if there might be some potential errors. \n",
    "\n",
    "## Problem Statement\n",
    "\n",
    "As discussed above, it is hard for each individual to understand how much tax they need to pay each year. People are vulnerable if they do not know if they need to pay an estimate tax or if they have paid the right amount. How to avoid these situations? The potential solution is to build up a model to estimate how much tax they should pay. In this way, there will be a benchmark for people to compare to so that they know if there are abnormal amount caused by errors or other factors.\n",
    "\n",
    "## Metrics\n",
    "\n",
    "There are many simple free models online, such as [smart assets]( https://smartasset.com/taxes/income-taxes), that can be used as a benchmark. However, since similar models only take salary into account, the amount my model calculated could be different from them. We can use the real data from IRS to test the free model online and my model. The less difference between calculated amount and the real amount, the better the model is. This is more a regression model other than a classification model, so the percentage of differences can be a good measure.\n",
    "\n",
    "\n",
    "## Dataset\n",
    "\n",
    "The dataset can be found in [Kaggle](https://www.kaggle.com/irs/individual-income-tax-statistics/data) or [IRS](https://www.irs.gov/statistics/soi-tax-stats-individual-income-tax-statistics-zip-code-data-soi). It is saved separately as csv files for analysis. The detail information about column name and explanation can be found in \"field_definitions.csv\" file. Detail information can also be found in [IRS](https://www.irs.gov/statistics/soi-tax-stats-individual-income-tax-statistics-zip-code-data-soi). The original dataset is not consistent each year, so I will only use the following columns for this analysis. I have manipulate them to make it easiler to understand. The number in the original dataset is the total amount per zipcode.\n",
    "\n",
    "* state - 2 letter state abbreviation\n",
    "* agi_class\n",
    "* num_of_returns - number of returns\n",
    "* num_of_exemptions - number total exemptions\n",
    "* num_of_dependents - number of total dependents\n",
    "* num_of_itemized - total number of returns with itemized deduction\n",
    "* agi - AGI\n",
    "* total_salary - total amount of salaries & wages\n",
    "* taxable_interest - total amount of taxable interest\n",
    "* ordinary_dividend - total amount of ordinary dividend\n",
    "* net_capital_gl - net amount of capital gain/loss\n",
    "* total_tax - Total income tax amount\n",
    "* prep - Number of returns using a Paid Preparer\n",
    "\n",
    "AGI_Stub information shows below:\n",
    "\n",
    "* 1 = \\$1 under \\$25,000 \n",
    "* 2 = \\$25,000 under \\$50,000 \n",
    "* 3 = \\$50,000 under \\$75,000 \n",
    "* 4 = \\$75,000 under \\$100,000 \n",
    "* 5 = \\$100,000 under \\$200,000 \n",
    "* 6 = \\$200,000 or more"
   ]
  },
  {
   "cell_type": "markdown",
   "metadata": {},
   "source": [
    "## Getting Started"
   ]
  },
  {
   "cell_type": "code",
   "execution_count": 1,
   "metadata": {},
   "outputs": [],
   "source": [
    "import numpy as np\n",
    "import pandas as pd\n",
    "import matplotlib.pyplot as plt\n",
    "import seaborn as sns\n",
    "\n",
    "%matplotlib inline"
   ]
  },
  {
   "cell_type": "code",
   "execution_count": 2,
   "metadata": {},
   "outputs": [],
   "source": [
    "%run read_files.py"
   ]
  },
  {
   "cell_type": "markdown",
   "metadata": {},
   "source": [
    "## Initial Data Exploration"
   ]
  },
  {
   "cell_type": "code",
   "execution_count": 3,
   "metadata": {},
   "outputs": [
    {
     "name": "stdout",
     "output_type": "stream",
     "text": [
      "<class 'pandas.core.frame.DataFrame'>\n",
      "RangeIndex: 1953802 entries, 0 to 1953801\n",
      "Data columns (total 16 columns):\n",
      "year                  int64\n",
      "state                 object\n",
      "agi_class             int64\n",
      "num_of_returns        float64\n",
      "num_of_exemptions     float64\n",
      "num_of_dependents     float64\n",
      "num_of_itemized       float64\n",
      "agi                   float64\n",
      "total_salary          float64\n",
      "taxable_interest      float64\n",
      "ordinary_dividend     float64\n",
      "qualified_dividend    float64\n",
      "net_capital_gl        float64\n",
      "real_estate           float64\n",
      "total_tax             float64\n",
      "prep                  float64\n",
      "dtypes: float64(13), int64(2), object(1)\n",
      "memory usage: 238.5+ MB\n"
     ]
    }
   ],
   "source": [
    "raw_data.info()"
   ]
  },
  {
   "cell_type": "code",
   "execution_count": 4,
   "metadata": {},
   "outputs": [
    {
     "data": {
      "text/html": [
       "<div>\n",
       "<style>\n",
       "    .dataframe thead tr:only-child th {\n",
       "        text-align: right;\n",
       "    }\n",
       "\n",
       "    .dataframe thead th {\n",
       "        text-align: left;\n",
       "    }\n",
       "\n",
       "    .dataframe tbody tr th {\n",
       "        vertical-align: top;\n",
       "    }\n",
       "</style>\n",
       "<table border=\"1\" class=\"dataframe\">\n",
       "  <thead>\n",
       "    <tr style=\"text-align: right;\">\n",
       "      <th></th>\n",
       "      <th>year</th>\n",
       "      <th>agi_class</th>\n",
       "      <th>num_of_returns</th>\n",
       "      <th>num_of_exemptions</th>\n",
       "      <th>num_of_dependents</th>\n",
       "      <th>num_of_itemized</th>\n",
       "      <th>agi</th>\n",
       "      <th>total_salary</th>\n",
       "      <th>taxable_interest</th>\n",
       "      <th>ordinary_dividend</th>\n",
       "      <th>qualified_dividend</th>\n",
       "      <th>net_capital_gl</th>\n",
       "      <th>real_estate</th>\n",
       "      <th>total_tax</th>\n",
       "      <th>prep</th>\n",
       "    </tr>\n",
       "  </thead>\n",
       "  <tbody>\n",
       "    <tr>\n",
       "      <th>count</th>\n",
       "      <td>1.953802e+06</td>\n",
       "      <td>1.953802e+06</td>\n",
       "      <td>1.931287e+06</td>\n",
       "      <td>1.922207e+06</td>\n",
       "      <td>1.931287e+06</td>\n",
       "      <td>1.705670e+06</td>\n",
       "      <td>1.928778e+06</td>\n",
       "      <td>1.910446e+06</td>\n",
       "      <td>1.883210e+06</td>\n",
       "      <td>1.850138e+06</td>\n",
       "      <td>1.029229e+06</td>\n",
       "      <td>1.855006e+06</td>\n",
       "      <td>1.215061e+06</td>\n",
       "      <td>1.868060e+06</td>\n",
       "      <td>1.910656e+06</td>\n",
       "    </tr>\n",
       "    <tr>\n",
       "      <th>mean</th>\n",
       "      <td>2.009570e+03</td>\n",
       "      <td>4.270481e+00</td>\n",
       "      <td>1.313526e+03</td>\n",
       "      <td>9.364372e+02</td>\n",
       "      <td>2.427323e+03</td>\n",
       "      <td>9.567687e+03</td>\n",
       "      <td>4.414340e+06</td>\n",
       "      <td>7.192329e+06</td>\n",
       "      <td>3.179260e+06</td>\n",
       "      <td>2.210501e+05</td>\n",
       "      <td>1.918794e+03</td>\n",
       "      <td>5.092822e+05</td>\n",
       "      <td>5.617182e+02</td>\n",
       "      <td>2.601555e+05</td>\n",
       "      <td>1.085569e+06</td>\n",
       "    </tr>\n",
       "    <tr>\n",
       "      <th>std</th>\n",
       "      <td>3.339095e+00</td>\n",
       "      <td>2.775964e+01</td>\n",
       "      <td>3.329159e+04</td>\n",
       "      <td>1.914911e+04</td>\n",
       "      <td>6.409265e+04</td>\n",
       "      <td>6.802836e+04</td>\n",
       "      <td>4.605642e+07</td>\n",
       "      <td>4.617545e+07</td>\n",
       "      <td>2.474668e+07</td>\n",
       "      <td>3.165278e+06</td>\n",
       "      <td>6.300148e+04</td>\n",
       "      <td>1.540186e+07</td>\n",
       "      <td>1.282776e+04</td>\n",
       "      <td>6.510224e+06</td>\n",
       "      <td>1.294756e+07</td>\n",
       "    </tr>\n",
       "    <tr>\n",
       "      <th>min</th>\n",
       "      <td>2.005000e+03</td>\n",
       "      <td>0.000000e+00</td>\n",
       "      <td>0.000000e+00</td>\n",
       "      <td>0.000000e+00</td>\n",
       "      <td>0.000000e+00</td>\n",
       "      <td>-4.407640e+05</td>\n",
       "      <td>-5.442273e+06</td>\n",
       "      <td>-8.545497e+06</td>\n",
       "      <td>-1.780000e+02</td>\n",
       "      <td>-1.298000e+03</td>\n",
       "      <td>0.000000e+00</td>\n",
       "      <td>-6.619550e+05</td>\n",
       "      <td>0.000000e+00</td>\n",
       "      <td>-2.309389e+06</td>\n",
       "      <td>0.000000e+00</td>\n",
       "    </tr>\n",
       "    <tr>\n",
       "      <th>25%</th>\n",
       "      <td>2.006000e+03</td>\n",
       "      <td>2.000000e+00</td>\n",
       "      <td>5.000000e+01</td>\n",
       "      <td>4.800000e+01</td>\n",
       "      <td>8.000000e+01</td>\n",
       "      <td>5.000000e+01</td>\n",
       "      <td>1.444000e+03</td>\n",
       "      <td>4.790000e+02</td>\n",
       "      <td>2.200000e+01</td>\n",
       "      <td>1.300000e+01</td>\n",
       "      <td>1.000000e-04</td>\n",
       "      <td>1.000000e-04</td>\n",
       "      <td>2.000000e+01</td>\n",
       "      <td>3.000000e+01</td>\n",
       "      <td>1.200000e+02</td>\n",
       "    </tr>\n",
       "    <tr>\n",
       "      <th>50%</th>\n",
       "      <td>2.010000e+03</td>\n",
       "      <td>4.000000e+00</td>\n",
       "      <td>1.900000e+02</td>\n",
       "      <td>1.600000e+02</td>\n",
       "      <td>3.170000e+02</td>\n",
       "      <td>2.790000e+02</td>\n",
       "      <td>1.047600e+04</td>\n",
       "      <td>9.094500e+03</td>\n",
       "      <td>2.000000e+02</td>\n",
       "      <td>2.530000e+02</td>\n",
       "      <td>7.800000e+01</td>\n",
       "      <td>1.240000e+02</td>\n",
       "      <td>7.000000e+01</td>\n",
       "      <td>3.270000e+02</td>\n",
       "      <td>1.100000e+03</td>\n",
       "    </tr>\n",
       "    <tr>\n",
       "      <th>75%</th>\n",
       "      <td>2.013000e+03</td>\n",
       "      <td>5.000000e+00</td>\n",
       "      <td>8.200000e+02</td>\n",
       "      <td>6.220000e+02</td>\n",
       "      <td>1.347000e+03</td>\n",
       "      <td>1.737000e+03</td>\n",
       "      <td>7.353475e+04</td>\n",
       "      <td>1.436490e+05</td>\n",
       "      <td>2.285000e+03</td>\n",
       "      <td>3.119000e+03</td>\n",
       "      <td>4.400000e+02</td>\n",
       "      <td>1.759000e+03</td>\n",
       "      <td>3.100000e+02</td>\n",
       "      <td>3.312250e+03</td>\n",
       "      <td>1.415100e+04</td>\n",
       "    </tr>\n",
       "    <tr>\n",
       "      <th>max</th>\n",
       "      <td>2.015000e+03</td>\n",
       "      <td>1.654000e+03</td>\n",
       "      <td>1.557362e+07</td>\n",
       "      <td>1.009918e+07</td>\n",
       "      <td>3.376639e+07</td>\n",
       "      <td>1.791496e+07</td>\n",
       "      <td>1.516317e+10</td>\n",
       "      <td>1.067744e+10</td>\n",
       "      <td>4.529753e+09</td>\n",
       "      <td>9.706594e+08</td>\n",
       "      <td>1.627667e+07</td>\n",
       "      <td>7.993815e+09</td>\n",
       "      <td>5.750461e+06</td>\n",
       "      <td>3.138205e+09</td>\n",
       "      <td>3.872201e+09</td>\n",
       "    </tr>\n",
       "  </tbody>\n",
       "</table>\n",
       "</div>"
      ],
      "text/plain": [
       "               year     agi_class  num_of_returns  num_of_exemptions  \\\n",
       "count  1.953802e+06  1.953802e+06    1.931287e+06       1.922207e+06   \n",
       "mean   2.009570e+03  4.270481e+00    1.313526e+03       9.364372e+02   \n",
       "std    3.339095e+00  2.775964e+01    3.329159e+04       1.914911e+04   \n",
       "min    2.005000e+03  0.000000e+00    0.000000e+00       0.000000e+00   \n",
       "25%    2.006000e+03  2.000000e+00    5.000000e+01       4.800000e+01   \n",
       "50%    2.010000e+03  4.000000e+00    1.900000e+02       1.600000e+02   \n",
       "75%    2.013000e+03  5.000000e+00    8.200000e+02       6.220000e+02   \n",
       "max    2.015000e+03  1.654000e+03    1.557362e+07       1.009918e+07   \n",
       "\n",
       "       num_of_dependents  num_of_itemized           agi  total_salary  \\\n",
       "count       1.931287e+06     1.705670e+06  1.928778e+06  1.910446e+06   \n",
       "mean        2.427323e+03     9.567687e+03  4.414340e+06  7.192329e+06   \n",
       "std         6.409265e+04     6.802836e+04  4.605642e+07  4.617545e+07   \n",
       "min         0.000000e+00    -4.407640e+05 -5.442273e+06 -8.545497e+06   \n",
       "25%         8.000000e+01     5.000000e+01  1.444000e+03  4.790000e+02   \n",
       "50%         3.170000e+02     2.790000e+02  1.047600e+04  9.094500e+03   \n",
       "75%         1.347000e+03     1.737000e+03  7.353475e+04  1.436490e+05   \n",
       "max         3.376639e+07     1.791496e+07  1.516317e+10  1.067744e+10   \n",
       "\n",
       "       taxable_interest  ordinary_dividend  qualified_dividend  \\\n",
       "count      1.883210e+06       1.850138e+06        1.029229e+06   \n",
       "mean       3.179260e+06       2.210501e+05        1.918794e+03   \n",
       "std        2.474668e+07       3.165278e+06        6.300148e+04   \n",
       "min       -1.780000e+02      -1.298000e+03        0.000000e+00   \n",
       "25%        2.200000e+01       1.300000e+01        1.000000e-04   \n",
       "50%        2.000000e+02       2.530000e+02        7.800000e+01   \n",
       "75%        2.285000e+03       3.119000e+03        4.400000e+02   \n",
       "max        4.529753e+09       9.706594e+08        1.627667e+07   \n",
       "\n",
       "       net_capital_gl   real_estate     total_tax          prep  \n",
       "count    1.855006e+06  1.215061e+06  1.868060e+06  1.910656e+06  \n",
       "mean     5.092822e+05  5.617182e+02  2.601555e+05  1.085569e+06  \n",
       "std      1.540186e+07  1.282776e+04  6.510224e+06  1.294756e+07  \n",
       "min     -6.619550e+05  0.000000e+00 -2.309389e+06  0.000000e+00  \n",
       "25%      1.000000e-04  2.000000e+01  3.000000e+01  1.200000e+02  \n",
       "50%      1.240000e+02  7.000000e+01  3.270000e+02  1.100000e+03  \n",
       "75%      1.759000e+03  3.100000e+02  3.312250e+03  1.415100e+04  \n",
       "max      7.993815e+09  5.750461e+06  3.138205e+09  3.872201e+09  "
      ]
     },
     "execution_count": 4,
     "metadata": {},
     "output_type": "execute_result"
    }
   ],
   "source": [
    "raw_data.describe()"
   ]
  },
  {
   "cell_type": "code",
   "execution_count": 5,
   "metadata": {},
   "outputs": [
    {
     "data": {
      "text/html": [
       "<div>\n",
       "<style>\n",
       "    .dataframe thead tr:only-child th {\n",
       "        text-align: right;\n",
       "    }\n",
       "\n",
       "    .dataframe thead th {\n",
       "        text-align: left;\n",
       "    }\n",
       "\n",
       "    .dataframe tbody tr th {\n",
       "        vertical-align: top;\n",
       "    }\n",
       "</style>\n",
       "<table border=\"1\" class=\"dataframe\">\n",
       "  <thead>\n",
       "    <tr style=\"text-align: right;\">\n",
       "      <th></th>\n",
       "      <th>year</th>\n",
       "      <th>state</th>\n",
       "      <th>agi_class</th>\n",
       "      <th>num_of_returns</th>\n",
       "      <th>num_of_exemptions</th>\n",
       "      <th>num_of_dependents</th>\n",
       "      <th>num_of_itemized</th>\n",
       "      <th>agi</th>\n",
       "      <th>total_salary</th>\n",
       "      <th>taxable_interest</th>\n",
       "      <th>ordinary_dividend</th>\n",
       "      <th>qualified_dividend</th>\n",
       "      <th>net_capital_gl</th>\n",
       "      <th>real_estate</th>\n",
       "      <th>total_tax</th>\n",
       "      <th>prep</th>\n",
       "    </tr>\n",
       "  </thead>\n",
       "  <tbody>\n",
       "    <tr>\n",
       "      <th>0</th>\n",
       "      <td>2005</td>\n",
       "      <td>AK</td>\n",
       "      <td>1</td>\n",
       "      <td>1459.0</td>\n",
       "      <td>1865.0</td>\n",
       "      <td>342.0</td>\n",
       "      <td>1709.0</td>\n",
       "      <td>5588.0</td>\n",
       "      <td>235.0</td>\n",
       "      <td>231.0</td>\n",
       "      <td>209.0</td>\n",
       "      <td>NaN</td>\n",
       "      <td>36.0</td>\n",
       "      <td>NaN</td>\n",
       "      <td>116.0</td>\n",
       "      <td>730.0</td>\n",
       "    </tr>\n",
       "    <tr>\n",
       "      <th>1</th>\n",
       "      <td>2005</td>\n",
       "      <td>AK</td>\n",
       "      <td>2</td>\n",
       "      <td>1713.0</td>\n",
       "      <td>2555.0</td>\n",
       "      <td>683.0</td>\n",
       "      <td>29943.0</td>\n",
       "      <td>24052.0</td>\n",
       "      <td>750.0</td>\n",
       "      <td>538.0</td>\n",
       "      <td>180.0</td>\n",
       "      <td>NaN</td>\n",
       "      <td>133.0</td>\n",
       "      <td>NaN</td>\n",
       "      <td>1436.0</td>\n",
       "      <td>927.0</td>\n",
       "    </tr>\n",
       "    <tr>\n",
       "      <th>2</th>\n",
       "      <td>2005</td>\n",
       "      <td>AK</td>\n",
       "      <td>3</td>\n",
       "      <td>1896.0</td>\n",
       "      <td>2944.0</td>\n",
       "      <td>736.0</td>\n",
       "      <td>67861.0</td>\n",
       "      <td>57409.0</td>\n",
       "      <td>860.0</td>\n",
       "      <td>832.0</td>\n",
       "      <td>586.0</td>\n",
       "      <td>NaN</td>\n",
       "      <td>311.0</td>\n",
       "      <td>NaN</td>\n",
       "      <td>5896.0</td>\n",
       "      <td>905.0</td>\n",
       "    </tr>\n",
       "    <tr>\n",
       "      <th>3</th>\n",
       "      <td>2005</td>\n",
       "      <td>AK</td>\n",
       "      <td>4</td>\n",
       "      <td>839.0</td>\n",
       "      <td>1421.0</td>\n",
       "      <td>303.0</td>\n",
       "      <td>51347.0</td>\n",
       "      <td>36871.0</td>\n",
       "      <td>1104.0</td>\n",
       "      <td>1029.0</td>\n",
       "      <td>1687.0</td>\n",
       "      <td>NaN</td>\n",
       "      <td>331.0</td>\n",
       "      <td>NaN</td>\n",
       "      <td>6245.0</td>\n",
       "      <td>467.0</td>\n",
       "    </tr>\n",
       "    <tr>\n",
       "      <th>4</th>\n",
       "      <td>2005</td>\n",
       "      <td>AK</td>\n",
       "      <td>5</td>\n",
       "      <td>417.0</td>\n",
       "      <td>794.0</td>\n",
       "      <td>153.0</td>\n",
       "      <td>35984.0</td>\n",
       "      <td>24282.0</td>\n",
       "      <td>683.0</td>\n",
       "      <td>607.0</td>\n",
       "      <td>981.0</td>\n",
       "      <td>NaN</td>\n",
       "      <td>239.0</td>\n",
       "      <td>NaN</td>\n",
       "      <td>5134.0</td>\n",
       "      <td>227.0</td>\n",
       "    </tr>\n",
       "  </tbody>\n",
       "</table>\n",
       "</div>"
      ],
      "text/plain": [
       "   year state  agi_class  num_of_returns  num_of_exemptions  \\\n",
       "0  2005    AK          1          1459.0             1865.0   \n",
       "1  2005    AK          2          1713.0             2555.0   \n",
       "2  2005    AK          3          1896.0             2944.0   \n",
       "3  2005    AK          4           839.0             1421.0   \n",
       "4  2005    AK          5           417.0              794.0   \n",
       "\n",
       "   num_of_dependents  num_of_itemized      agi  total_salary  \\\n",
       "0              342.0           1709.0   5588.0         235.0   \n",
       "1              683.0          29943.0  24052.0         750.0   \n",
       "2              736.0          67861.0  57409.0         860.0   \n",
       "3              303.0          51347.0  36871.0        1104.0   \n",
       "4              153.0          35984.0  24282.0         683.0   \n",
       "\n",
       "   taxable_interest  ordinary_dividend  qualified_dividend  net_capital_gl  \\\n",
       "0             231.0              209.0                 NaN            36.0   \n",
       "1             538.0              180.0                 NaN           133.0   \n",
       "2             832.0              586.0                 NaN           311.0   \n",
       "3            1029.0             1687.0                 NaN           331.0   \n",
       "4             607.0              981.0                 NaN           239.0   \n",
       "\n",
       "   real_estate  total_tax   prep  \n",
       "0          NaN      116.0  730.0  \n",
       "1          NaN     1436.0  927.0  \n",
       "2          NaN     5896.0  905.0  \n",
       "3          NaN     6245.0  467.0  \n",
       "4          NaN     5134.0  227.0  "
      ]
     },
     "execution_count": 5,
     "metadata": {},
     "output_type": "execute_result"
    }
   ],
   "source": [
    "raw_data.head()"
   ]
  },
  {
   "cell_type": "code",
   "execution_count": 6,
   "metadata": {},
   "outputs": [
    {
     "data": {
      "text/html": [
       "<div>\n",
       "<style>\n",
       "    .dataframe thead tr:only-child th {\n",
       "        text-align: right;\n",
       "    }\n",
       "\n",
       "    .dataframe thead th {\n",
       "        text-align: left;\n",
       "    }\n",
       "\n",
       "    .dataframe tbody tr th {\n",
       "        vertical-align: top;\n",
       "    }\n",
       "</style>\n",
       "<table border=\"1\" class=\"dataframe\">\n",
       "  <thead>\n",
       "    <tr style=\"text-align: right;\">\n",
       "      <th></th>\n",
       "      <th>year</th>\n",
       "      <th>state</th>\n",
       "      <th>agi_class</th>\n",
       "      <th>num_of_returns</th>\n",
       "      <th>num_of_exemptions</th>\n",
       "      <th>num_of_dependents</th>\n",
       "      <th>num_of_itemized</th>\n",
       "      <th>agi</th>\n",
       "      <th>total_salary</th>\n",
       "      <th>taxable_interest</th>\n",
       "      <th>ordinary_dividend</th>\n",
       "      <th>qualified_dividend</th>\n",
       "      <th>net_capital_gl</th>\n",
       "      <th>real_estate</th>\n",
       "      <th>total_tax</th>\n",
       "      <th>prep</th>\n",
       "    </tr>\n",
       "  </thead>\n",
       "  <tbody>\n",
       "    <tr>\n",
       "      <th>1184547</th>\n",
       "      <td>2011</td>\n",
       "      <td>MA</td>\n",
       "      <td>2</td>\n",
       "      <td>125.0</td>\n",
       "      <td>59.0</td>\n",
       "      <td>210.0</td>\n",
       "      <td>46.0</td>\n",
       "      <td>4614.0</td>\n",
       "      <td>3330.0</td>\n",
       "      <td>59.0</td>\n",
       "      <td>87.0</td>\n",
       "      <td>28.0</td>\n",
       "      <td>0.0001</td>\n",
       "      <td>59.0000</td>\n",
       "      <td>188.0000</td>\n",
       "      <td>278.0</td>\n",
       "    </tr>\n",
       "    <tr>\n",
       "      <th>737334</th>\n",
       "      <td>2008</td>\n",
       "      <td>AL</td>\n",
       "      <td>4</td>\n",
       "      <td>39.0</td>\n",
       "      <td>27.0</td>\n",
       "      <td>83.0</td>\n",
       "      <td>NaN</td>\n",
       "      <td>15.0</td>\n",
       "      <td>2433537.0</td>\n",
       "      <td>1084049.0</td>\n",
       "      <td>124295.0</td>\n",
       "      <td>NaN</td>\n",
       "      <td>83277.0000</td>\n",
       "      <td>NaN</td>\n",
       "      <td>39459.0000</td>\n",
       "      <td>169572.0</td>\n",
       "    </tr>\n",
       "    <tr>\n",
       "      <th>1241564</th>\n",
       "      <td>2011</td>\n",
       "      <td>OR</td>\n",
       "      <td>1</td>\n",
       "      <td>139.0</td>\n",
       "      <td>73.0</td>\n",
       "      <td>200.0</td>\n",
       "      <td>38.0</td>\n",
       "      <td>1612.0</td>\n",
       "      <td>885.0</td>\n",
       "      <td>70.0</td>\n",
       "      <td>60.0</td>\n",
       "      <td>26.0</td>\n",
       "      <td>-8.0000</td>\n",
       "      <td>0.0001</td>\n",
       "      <td>0.0001</td>\n",
       "      <td>31.0</td>\n",
       "    </tr>\n",
       "    <tr>\n",
       "      <th>135956</th>\n",
       "      <td>2005</td>\n",
       "      <td>NJ</td>\n",
       "      <td>3</td>\n",
       "      <td>526.0</td>\n",
       "      <td>943.0</td>\n",
       "      <td>279.0</td>\n",
       "      <td>19277.0</td>\n",
       "      <td>16581.0</td>\n",
       "      <td>138.0</td>\n",
       "      <td>73.0</td>\n",
       "      <td>103.0</td>\n",
       "      <td>NaN</td>\n",
       "      <td>230.0000</td>\n",
       "      <td>NaN</td>\n",
       "      <td>1361.0000</td>\n",
       "      <td>319.0</td>\n",
       "    </tr>\n",
       "    <tr>\n",
       "      <th>954569</th>\n",
       "      <td>2010</td>\n",
       "      <td>AL</td>\n",
       "      <td>4</td>\n",
       "      <td>2112.0</td>\n",
       "      <td>1018.0</td>\n",
       "      <td>5219.0</td>\n",
       "      <td>1581.0</td>\n",
       "      <td>182972.0</td>\n",
       "      <td>136155.0</td>\n",
       "      <td>2078.0</td>\n",
       "      <td>1839.0</td>\n",
       "      <td>1283.0</td>\n",
       "      <td>170.0000</td>\n",
       "      <td>1517.0000</td>\n",
       "      <td>1421.0000</td>\n",
       "      <td>17352.0</td>\n",
       "    </tr>\n",
       "  </tbody>\n",
       "</table>\n",
       "</div>"
      ],
      "text/plain": [
       "         year state  agi_class  num_of_returns  num_of_exemptions  \\\n",
       "1184547  2011    MA          2           125.0               59.0   \n",
       "737334   2008    AL          4            39.0               27.0   \n",
       "1241564  2011    OR          1           139.0               73.0   \n",
       "135956   2005    NJ          3           526.0              943.0   \n",
       "954569   2010    AL          4          2112.0             1018.0   \n",
       "\n",
       "         num_of_dependents  num_of_itemized       agi  total_salary  \\\n",
       "1184547              210.0             46.0    4614.0        3330.0   \n",
       "737334                83.0              NaN      15.0     2433537.0   \n",
       "1241564              200.0             38.0    1612.0         885.0   \n",
       "135956               279.0          19277.0   16581.0         138.0   \n",
       "954569              5219.0           1581.0  182972.0      136155.0   \n",
       "\n",
       "         taxable_interest  ordinary_dividend  qualified_dividend  \\\n",
       "1184547              59.0               87.0                28.0   \n",
       "737334          1084049.0           124295.0                 NaN   \n",
       "1241564              70.0               60.0                26.0   \n",
       "135956               73.0              103.0                 NaN   \n",
       "954569             2078.0             1839.0              1283.0   \n",
       "\n",
       "         net_capital_gl  real_estate   total_tax      prep  \n",
       "1184547          0.0001      59.0000    188.0000     278.0  \n",
       "737334       83277.0000          NaN  39459.0000  169572.0  \n",
       "1241564         -8.0000       0.0001      0.0001      31.0  \n",
       "135956         230.0000          NaN   1361.0000     319.0  \n",
       "954569         170.0000    1517.0000   1421.0000   17352.0  "
      ]
     },
     "execution_count": 6,
     "metadata": {},
     "output_type": "execute_result"
    }
   ],
   "source": [
    "raw_data.sample(5)"
   ]
  },
  {
   "cell_type": "markdown",
   "metadata": {},
   "source": [
    "The dataset is currently aggregated by zipcode, which has too many details. State has more impact on the final tax amount than zipcode. The amount in raw_data is grouped by zipcode, and the agg_state will be grouped by year and state."
   ]
  },
  {
   "cell_type": "code",
   "execution_count": 7,
   "metadata": {},
   "outputs": [
    {
     "data": {
      "text/plain": [
       "(1953802, 16)"
      ]
     },
     "execution_count": 7,
     "metadata": {},
     "output_type": "execute_result"
    }
   ],
   "source": [
    "raw_data.shape"
   ]
  },
  {
   "cell_type": "markdown",
   "metadata": {
    "collapsed": true
   },
   "source": [
    "## Data Exploration"
   ]
  },
  {
   "cell_type": "markdown",
   "metadata": {},
   "source": [
    "### Number of Returns per year"
   ]
  },
  {
   "cell_type": "code",
   "execution_count": 8,
   "metadata": {
    "scrolled": true
   },
   "outputs": [
    {
     "data": {
      "text/plain": [
       "<matplotlib.text.Text at 0x7f9925d066d8>"
      ]
     },
     "execution_count": 8,
     "metadata": {},
     "output_type": "execute_result"
    },
    {
     "data": {
      "image/png": "[encoded data removed]",
      "text/plain": [
       "<matplotlib.figure.Figure at 0x7f992b0d1438>"
      ]
     },
     "metadata": {},
     "output_type": "display_data"
    }
   ],
   "source": [
    "sns.barplot(data=raw_data, x='year', y='num_of_returns')\n",
    "plt.title('Average Number of Returns Every Year')"
   ]
  },
  {
   "cell_type": "code",
   "execution_count": 9,
   "metadata": {},
   "outputs": [
    {
     "data": {
      "text/plain": [
       "<matplotlib.text.Text at 0x7f99315cb898>"
      ]
     },
     "execution_count": 9,
     "metadata": {},
     "output_type": "execute_result"
    },
    {
     "data": {
      "image/png": "[encoded data removed]",
      "text/plain": [
       "<matplotlib.figure.Figure at 0x7f996004beb8>"
      ]
     },
     "metadata": {},
     "output_type": "display_data"
    }
   ],
   "source": [
    "sns.barplot(data=raw_data, x='year', y='num_of_returns', estimator=np.sum)\n",
    "plt.title('Total Number of Returns Every Year')"
   ]
  },
  {
   "cell_type": "markdown",
   "metadata": {},
   "source": [
    "This is very interesting since the number of returns should not change so dramatically. It might be something hidden in the data. "
   ]
  },
  {
   "cell_type": "code",
   "execution_count": 10,
   "metadata": {},
   "outputs": [
    {
     "data": {
      "text/plain": [
       "<matplotlib.text.Text at 0x7f9931504c50>"
      ]
     },
     "execution_count": 10,
     "metadata": {},
     "output_type": "execute_result"
    },
    {
     "data": {
      "image/png": "[encoded data removed]",
      "text/plain": [
       "<matplotlib.figure.Figure at 0x7f9926dacf60>"
      ]
     },
     "metadata": {},
     "output_type": "display_data"
    }
   ],
   "source": [
    "sns.countplot(data=raw_data, x='year')\n",
    "plt.title('Total Data Collected Each Year')"
   ]
  },
  {
   "cell_type": "markdown",
   "metadata": {},
   "source": [
    "This explans the sky-high average number of return in 2009. Although the total amount of returns seems right, the data point is much less than the other years. After reading through the documents, I did not find any reasons why it is significantly less than the other years. I assume that many zipcodes were grouped together in 2009. \n",
    "\n",
    "Since there is no way to fix it, the plot with average number will not be approprite. The future plots will focus on total amount.\n",
    "\n",
    "Put the 2009 issue aside, the total number of returns jumped almost twice from 2008 to 2009. Since there is no documents in IRS explained the possible reasons, I would assume this is because of the financial crisis. More people are filing returns to get tax refund or figuring out their situations because of the financial crisis. After 2009, the total amount increased slightly each year."
   ]
  },
  {
   "cell_type": "markdown",
   "metadata": {},
   "source": [
    "### Paid Preparer"
   ]
  },
  {
   "cell_type": "code",
   "execution_count": 11,
   "metadata": {
    "scrolled": true
   },
   "outputs": [
    {
     "data": {
      "text/plain": [
       "<matplotlib.text.Text at 0x7f9931496128>"
      ]
     },
     "execution_count": 11,
     "metadata": {},
     "output_type": "execute_result"
    },
    {
     "data": {
      "image/png": "[encoded data removed]",
      "text/plain": [
       "<matplotlib.figure.Figure at 0x7f991fcd4828>"
      ]
     },
     "metadata": {},
     "output_type": "display_data"
    }
   ],
   "source": [
    "sns.barplot(data=raw_data, x='year', y='prep', estimator=np.sum)\n",
    "plt.title('Total Number of People using Paid Preparer Every Year')"
   ]
  },
  {
   "cell_type": "code",
   "execution_count": 12,
   "metadata": {},
   "outputs": [],
   "source": [
    "prep = pd.pivot_table(raw_data, values='prep', \n",
    "                      index=['year'], columns=['state'], aggfunc=np.sum, margins=True)"
   ]
  },
  {
   "cell_type": "code",
   "execution_count": 13,
   "metadata": {},
   "outputs": [
    {
     "data": {
      "text/plain": [
       "year\n",
       "2005    7.964807e+07\n",
       "2006    8.222484e+07\n",
       "2007    1.070869e+12\n",
       "2008    9.871033e+11\n",
       "2009    1.763429e+09\n",
       "2010    1.939648e+09\n",
       "2011    2.073536e+09\n",
       "2012    2.335302e+09\n",
       "2013    2.410683e+09\n",
       "2014    2.665880e+09\n",
       "2015    2.826148e+09\n",
       "All     2.074149e+12\n",
       "Name: All, dtype: float64"
      ]
     },
     "execution_count": 13,
     "metadata": {},
     "output_type": "execute_result"
    }
   ],
   "source": [
    "prep['All']"
   ]
  },
  {
   "cell_type": "markdown",
   "metadata": {},
   "source": [
    "If the original dataset doesn't contain errors, 2007 and 2008 have significantly more people using a paid preparer than other years. It might related to the economical prosperity in these two years."
   ]
  },
  {
   "cell_type": "markdown",
   "metadata": {},
   "source": [
    "### Number of People who used Itemized Deduction"
   ]
  },
  {
   "cell_type": "code",
   "execution_count": 14,
   "metadata": {},
   "outputs": [
    {
     "data": {
      "text/plain": [
       "<matplotlib.text.Text at 0x7f9931362898>"
      ]
     },
     "execution_count": 14,
     "metadata": {},
     "output_type": "execute_result"
    },
    {
     "data": {
      "image/png": "[encoded data removed]",
      "text/plain": [
       "<matplotlib.figure.Figure at 0x7f991fcd4630>"
      ]
     },
     "metadata": {},
     "output_type": "display_data"
    }
   ],
   "source": [
    "sns.barplot(data=raw_data, x='year', y='num_of_itemized', estimator=np.sum)\n",
    "plt.title('Total Number of Returns with Itemized Deduction')"
   ]
  },
  {
   "cell_type": "markdown",
   "metadata": {},
   "source": [
    "Similar to number of paid preparer, 2005 and 2006 have more returns with itemized deduction than other years. 2009-2015 are more consistent."
   ]
  },
  {
   "cell_type": "markdown",
   "metadata": {},
   "source": [
    "### AGI Class"
   ]
  },
  {
   "cell_type": "code",
   "execution_count": 15,
   "metadata": {},
   "outputs": [
    {
     "data": {
      "text/plain": [
       "<matplotlib.axes._subplots.AxesSubplot at 0x7f99312e9278>"
      ]
     },
     "execution_count": 15,
     "metadata": {},
     "output_type": "execute_result"
    },
    {
     "data": {
      "image/png": "[encoded data removed]",
      "text/plain": [
       "<matplotlib.figure.Figure at 0x7f9968036940>"
      ]
     },
     "metadata": {},
     "output_type": "display_data"
    }
   ],
   "source": [
    "sns.distplot(raw_data['agi_class'])"
   ]
  },
  {
   "cell_type": "markdown",
   "metadata": {},
   "source": [
    "There are unexpected AGI class shown here. Per the dataset description in IRS website, there should only be 6 class in total. Therefore, Any AGI class higher than 6 should me removed."
   ]
  },
  {
   "cell_type": "markdown",
   "metadata": {},
   "source": [
    "### Real Estate Tax"
   ]
  },
  {
   "cell_type": "code",
   "execution_count": 16,
   "metadata": {},
   "outputs": [
    {
     "data": {
      "text/plain": [
       "<matplotlib.axes._subplots.AxesSubplot at 0x7f993120f5c0>"
      ]
     },
     "execution_count": 16,
     "metadata": {},
     "output_type": "execute_result"
    },
    {
     "data": {
      "image/png": "[encoded data removed]",
      "text/plain": [
       "<matplotlib.figure.Figure at 0x7f991fccd048>"
      ]
     },
     "metadata": {},
     "output_type": "display_data"
    }
   ],
   "source": [
    "sns.distplot(raw_data['real_estate'].dropna())"
   ]
  },
  {
   "cell_type": "code",
   "execution_count": 17,
   "metadata": {},
   "outputs": [
    {
     "data": {
      "text/plain": [
       "<matplotlib.axes._subplots.AxesSubplot at 0x7f9931159c88>"
      ]
     },
     "execution_count": 17,
     "metadata": {},
     "output_type": "execute_result"
    },
    {
     "data": {
      "image/png": "[encoded data removed]",
      "text/plain": [
       "<matplotlib.figure.Figure at 0x7f99314669b0>"
      ]
     },
     "metadata": {},
     "output_type": "display_data"
    }
   ],
   "source": [
    "sns.boxplot(data=raw_data, x='agi_class', y='real_estate')"
   ]
  },
  {
   "cell_type": "markdown",
   "metadata": {},
   "source": [
    "### Number of Dependents"
   ]
  },
  {
   "cell_type": "code",
   "execution_count": 18,
   "metadata": {},
   "outputs": [
    {
     "data": {
      "text/plain": [
       "<matplotlib.axes._subplots.AxesSubplot at 0x7f9926681160>"
      ]
     },
     "execution_count": 18,
     "metadata": {},
     "output_type": "execute_result"
    },
    {
     "data": {
      "image/png": "[encoded data removed]",
      "text/plain": [
       "<matplotlib.figure.Figure at 0x7f99301d8d68>"
      ]
     },
     "metadata": {},
     "output_type": "display_data"
    }
   ],
   "source": [
    "sns.distplot(raw_data[raw_data['num_of_dependents'] < 100]['num_of_dependents'].dropna())"
   ]
  },
  {
   "cell_type": "markdown",
   "metadata": {},
   "source": [
    "### Adjusted Gross Income"
   ]
  },
  {
   "cell_type": "code",
   "execution_count": 19,
   "metadata": {},
   "outputs": [
    {
     "data": {
      "text/plain": [
       "<matplotlib.text.Text at 0x7f99304ffef0>"
      ]
     },
     "execution_count": 19,
     "metadata": {},
     "output_type": "execute_result"
    },
    {
     "data": {
      "image/png": "[encoded data removed]",
      "text/plain": [
       "<matplotlib.figure.Figure at 0x7f9931159278>"
      ]
     },
     "metadata": {},
     "output_type": "display_data"
    }
   ],
   "source": [
    "sns.barplot(data=raw_data, x='year', y='agi', estimator=np.sum)\n",
    "plt.title('Total AGI Every Year')"
   ]
  },
  {
   "cell_type": "code",
   "execution_count": 20,
   "metadata": {},
   "outputs": [
    {
     "data": {
      "text/plain": [
       "<matplotlib.text.Text at 0x7f99306b9dd8>"
      ]
     },
     "execution_count": 20,
     "metadata": {},
     "output_type": "execute_result"
    },
    {
     "data": {
      "image/png": "[encoded data removed]",
      "text/plain": [
       "<matplotlib.figure.Figure at 0x7f993046ca20>"
      ]
     },
     "metadata": {},
     "output_type": "display_data"
    }
   ],
   "source": [
    "sns.barplot(data=raw_data, x='year', y='agi')\n",
    "plt.title('Average AGI Every Year')"
   ]
  },
  {
   "cell_type": "markdown",
   "metadata": {},
   "source": [
    "2007 has much higher agi amount than the rest of the years regardless of total amount or average amount. Based on previous visualization, 2009-2015 have more consistent data. Let's see what will they show."
   ]
  },
  {
   "cell_type": "code",
   "execution_count": 21,
   "metadata": {},
   "outputs": [
    {
     "data": {
      "text/plain": [
       "<matplotlib.text.Text at 0x7f9930844f98>"
      ]
     },
     "execution_count": 21,
     "metadata": {},
     "output_type": "execute_result"
    },
    {
     "data": {
      "image/png": "[encoded data removed]",
      "text/plain": [
       "<matplotlib.figure.Figure at 0x7f99304cb4e0>"
      ]
     },
     "metadata": {},
     "output_type": "display_data"
    }
   ],
   "source": [
    "sns.barplot(data=raw_data[(raw_data['year'] >= 2009) & (raw_data['year'] <= 2015)],\n",
    "            x='year', y='agi')\n",
    "plt.title('Average AGI from 2009-2015')"
   ]
  },
  {
   "cell_type": "code",
   "execution_count": 22,
   "metadata": {},
   "outputs": [
    {
     "data": {
      "text/plain": [
       "<matplotlib.text.Text at 0x7f993092edd8>"
      ]
     },
     "execution_count": 22,
     "metadata": {},
     "output_type": "execute_result"
    },
    {
     "data": {
      "image/png": "[encoded data removed]",
      "text/plain": [
       "<matplotlib.figure.Figure at 0x7f9930840c18>"
      ]
     },
     "metadata": {},
     "output_type": "display_data"
    }
   ],
   "source": [
    "sns.barplot(data=raw_data[(raw_data['year'] >= 2009) & (raw_data['year'] <= 2015)],\n",
    "            x='year', y='agi', estimator=np.sum)\n",
    "plt.title('Total AGI from 2009-2015')"
   ]
  },
  {
   "cell_type": "markdown",
   "metadata": {},
   "source": [
    "This is more reasonable and consistent. 2009 has much higher average since the total amount of data is significantly lower as shown previously. The average agi increases slightly every year since 2009."
   ]
  },
  {
   "cell_type": "markdown",
   "metadata": {},
   "source": [
    "### Total Amount of Tax"
   ]
  },
  {
   "cell_type": "code",
   "execution_count": 23,
   "metadata": {},
   "outputs": [
    {
     "data": {
      "text/plain": [
       "<matplotlib.text.Text at 0x7f9930a42d30>"
      ]
     },
     "execution_count": 23,
     "metadata": {},
     "output_type": "execute_result"
    },
    {
     "data": {
      "image/png": "[encoded data removed]",
      "text/plain": [
       "<matplotlib.figure.Figure at 0x7f9930485be0>"
      ]
     },
     "metadata": {},
     "output_type": "display_data"
    }
   ],
   "source": [
    "sns.barplot(data=raw_data, x='year', y='total_tax', estimator=np.sum)\n",
    "plt.title('Total Tax Amount on Returns Every Year')"
   ]
  },
  {
   "cell_type": "code",
   "execution_count": 24,
   "metadata": {},
   "outputs": [
    {
     "data": {
      "text/plain": [
       "<matplotlib.text.Text at 0x7f9930c21b00>"
      ]
     },
     "execution_count": 24,
     "metadata": {},
     "output_type": "execute_result"
    },
    {
     "data": {
      "image/png": "[encoded data removed]",
      "text/plain": [
       "<matplotlib.figure.Figure at 0x7f99308ad828>"
      ]
     },
     "metadata": {},
     "output_type": "display_data"
    }
   ],
   "source": [
    "sns.barplot(data=raw_data[(raw_data['year'] >= 2009) & (raw_data['year'] <= 2015)],\n",
    "            x='year', y='total_tax', estimator=np.sum)\n",
    "plt.title('Total Tax Amount on Returns 2009-2015')"
   ]
  },
  {
   "cell_type": "markdown",
   "metadata": {},
   "source": [
    "Similar to agi amount, 2007 and 2008 has unexpected high amount than the other years. 2009 to 2015 have more consistent amount. The total tax per return increased slightly every year, which is similar to agi amount>"
   ]
  },
  {
   "cell_type": "markdown",
   "metadata": {},
   "source": [
    "I want to explore more about the relationship between each numerical variable."
   ]
  },
  {
   "cell_type": "code",
   "execution_count": 25,
   "metadata": {},
   "outputs": [
    {
     "data": {
      "text/plain": [
       "<matplotlib.text.Text at 0x7f9930d09d30>"
      ]
     },
     "execution_count": 25,
     "metadata": {},
     "output_type": "execute_result"
    },
    {
     "data": {
      "image/png": "[encoded data removed]",
      "text/plain": [
       "<matplotlib.figure.Figure at 0x7f99308b2400>"
      ]
     },
     "metadata": {},
     "output_type": "display_data"
    }
   ],
   "source": [
    "sns.heatmap(raw_data[['agi', 'total_salary', 'taxable_interest', 'ordinary_dividend',\n",
    "                       'qualified_dividend', 'net_capital_gl', 'real_estate',\n",
    "                       'total_tax']].corr(), cmap='coolwarm')\n",
    "plt.title('Relatinoship between Each Variable 2005-2015')"
   ]
  },
  {
   "cell_type": "markdown",
   "metadata": {},
   "source": [
    "Aggregating the amount together will be easier to show."
   ]
  },
  {
   "cell_type": "code",
   "execution_count": 26,
   "metadata": {},
   "outputs": [],
   "source": [
    "agg_state = raw_data.groupby(['year', 'state']).sum()"
   ]
  },
  {
   "cell_type": "code",
   "execution_count": 27,
   "metadata": {},
   "outputs": [
    {
     "data": {
      "text/html": [
       "<div>\n",
       "<style>\n",
       "    .dataframe thead tr:only-child th {\n",
       "        text-align: right;\n",
       "    }\n",
       "\n",
       "    .dataframe thead th {\n",
       "        text-align: left;\n",
       "    }\n",
       "\n",
       "    .dataframe tbody tr th {\n",
       "        vertical-align: top;\n",
       "    }\n",
       "</style>\n",
       "<table border=\"1\" class=\"dataframe\">\n",
       "  <thead>\n",
       "    <tr style=\"text-align: right;\">\n",
       "      <th></th>\n",
       "      <th>agi_class</th>\n",
       "      <th>num_of_returns</th>\n",
       "      <th>num_of_exemptions</th>\n",
       "      <th>num_of_dependents</th>\n",
       "      <th>num_of_itemized</th>\n",
       "      <th>agi</th>\n",
       "      <th>total_salary</th>\n",
       "      <th>taxable_interest</th>\n",
       "      <th>ordinary_dividend</th>\n",
       "      <th>qualified_dividend</th>\n",
       "      <th>net_capital_gl</th>\n",
       "      <th>real_estate</th>\n",
       "      <th>total_tax</th>\n",
       "      <th>prep</th>\n",
       "    </tr>\n",
       "  </thead>\n",
       "  <tbody>\n",
       "    <tr>\n",
       "      <th>agi_class</th>\n",
       "      <td>1.000000</td>\n",
       "      <td>0.069530</td>\n",
       "      <td>0.110831</td>\n",
       "      <td>0.049119</td>\n",
       "      <td>0.102149</td>\n",
       "      <td>0.053574</td>\n",
       "      <td>0.065533</td>\n",
       "      <td>0.043173</td>\n",
       "      <td>0.067511</td>\n",
       "      <td>0.683814</td>\n",
       "      <td>0.059344</td>\n",
       "      <td>0.593434</td>\n",
       "      <td>0.061195</td>\n",
       "      <td>0.068492</td>\n",
       "    </tr>\n",
       "    <tr>\n",
       "      <th>num_of_returns</th>\n",
       "      <td>0.069530</td>\n",
       "      <td>1.000000</td>\n",
       "      <td>0.816387</td>\n",
       "      <td>0.980720</td>\n",
       "      <td>0.106787</td>\n",
       "      <td>0.082752</td>\n",
       "      <td>0.098292</td>\n",
       "      <td>0.063730</td>\n",
       "      <td>0.111834</td>\n",
       "      <td>0.941710</td>\n",
       "      <td>0.103821</td>\n",
       "      <td>0.974785</td>\n",
       "      <td>0.106344</td>\n",
       "      <td>0.109848</td>\n",
       "    </tr>\n",
       "    <tr>\n",
       "      <th>num_of_exemptions</th>\n",
       "      <td>0.110831</td>\n",
       "      <td>0.816387</td>\n",
       "      <td>1.000000</td>\n",
       "      <td>0.698572</td>\n",
       "      <td>0.653794</td>\n",
       "      <td>0.035859</td>\n",
       "      <td>0.039707</td>\n",
       "      <td>0.024901</td>\n",
       "      <td>0.054864</td>\n",
       "      <td>0.943767</td>\n",
       "      <td>0.053531</td>\n",
       "      <td>0.984603</td>\n",
       "      <td>0.056833</td>\n",
       "      <td>0.050245</td>\n",
       "    </tr>\n",
       "    <tr>\n",
       "      <th>num_of_dependents</th>\n",
       "      <td>0.049119</td>\n",
       "      <td>0.980720</td>\n",
       "      <td>0.698572</td>\n",
       "      <td>1.000000</td>\n",
       "      <td>-0.077234</td>\n",
       "      <td>0.086189</td>\n",
       "      <td>0.110319</td>\n",
       "      <td>0.075663</td>\n",
       "      <td>0.119366</td>\n",
       "      <td>0.925629</td>\n",
       "      <td>0.107006</td>\n",
       "      <td>0.972972</td>\n",
       "      <td>0.114737</td>\n",
       "      <td>0.119295</td>\n",
       "    </tr>\n",
       "    <tr>\n",
       "      <th>num_of_itemized</th>\n",
       "      <td>0.102149</td>\n",
       "      <td>0.106787</td>\n",
       "      <td>0.653794</td>\n",
       "      <td>-0.077234</td>\n",
       "      <td>1.000000</td>\n",
       "      <td>-0.062843</td>\n",
       "      <td>-0.064525</td>\n",
       "      <td>-0.056944</td>\n",
       "      <td>-0.055305</td>\n",
       "      <td>0.907101</td>\n",
       "      <td>-0.053541</td>\n",
       "      <td>0.955169</td>\n",
       "      <td>-0.048389</td>\n",
       "      <td>-0.060565</td>\n",
       "    </tr>\n",
       "    <tr>\n",
       "      <th>agi</th>\n",
       "      <td>0.053574</td>\n",
       "      <td>0.082752</td>\n",
       "      <td>0.035859</td>\n",
       "      <td>0.086189</td>\n",
       "      <td>-0.062843</td>\n",
       "      <td>1.000000</td>\n",
       "      <td>0.553991</td>\n",
       "      <td>0.005903</td>\n",
       "      <td>0.707366</td>\n",
       "      <td>0.965811</td>\n",
       "      <td>0.943003</td>\n",
       "      <td>0.078233</td>\n",
       "      <td>0.415635</td>\n",
       "      <td>0.721931</td>\n",
       "    </tr>\n",
       "    <tr>\n",
       "      <th>total_salary</th>\n",
       "      <td>0.065533</td>\n",
       "      <td>0.098292</td>\n",
       "      <td>0.039707</td>\n",
       "      <td>0.110319</td>\n",
       "      <td>-0.064525</td>\n",
       "      <td>0.553991</td>\n",
       "      <td>1.000000</td>\n",
       "      <td>0.834547</td>\n",
       "      <td>0.958719</td>\n",
       "      <td>0.950719</td>\n",
       "      <td>0.700385</td>\n",
       "      <td>0.075923</td>\n",
       "      <td>0.955403</td>\n",
       "      <td>0.970149</td>\n",
       "    </tr>\n",
       "    <tr>\n",
       "      <th>taxable_interest</th>\n",
       "      <td>0.043173</td>\n",
       "      <td>0.063730</td>\n",
       "      <td>0.024901</td>\n",
       "      <td>0.075663</td>\n",
       "      <td>-0.056944</td>\n",
       "      <td>0.005903</td>\n",
       "      <td>0.834547</td>\n",
       "      <td>1.000000</td>\n",
       "      <td>0.686350</td>\n",
       "      <td>0.876936</td>\n",
       "      <td>0.227782</td>\n",
       "      <td>0.086036</td>\n",
       "      <td>0.868074</td>\n",
       "      <td>0.689947</td>\n",
       "    </tr>\n",
       "    <tr>\n",
       "      <th>ordinary_dividend</th>\n",
       "      <td>0.067511</td>\n",
       "      <td>0.111834</td>\n",
       "      <td>0.054864</td>\n",
       "      <td>0.119366</td>\n",
       "      <td>-0.055305</td>\n",
       "      <td>0.707366</td>\n",
       "      <td>0.958719</td>\n",
       "      <td>0.686350</td>\n",
       "      <td>1.000000</td>\n",
       "      <td>0.998960</td>\n",
       "      <td>0.848641</td>\n",
       "      <td>0.084628</td>\n",
       "      <td>0.916381</td>\n",
       "      <td>0.987573</td>\n",
       "    </tr>\n",
       "    <tr>\n",
       "      <th>qualified_dividend</th>\n",
       "      <td>0.683814</td>\n",
       "      <td>0.941710</td>\n",
       "      <td>0.943767</td>\n",
       "      <td>0.925629</td>\n",
       "      <td>0.907101</td>\n",
       "      <td>0.965811</td>\n",
       "      <td>0.950719</td>\n",
       "      <td>0.876936</td>\n",
       "      <td>0.998960</td>\n",
       "      <td>1.000000</td>\n",
       "      <td>0.960162</td>\n",
       "      <td>0.926961</td>\n",
       "      <td>0.917181</td>\n",
       "      <td>0.972595</td>\n",
       "    </tr>\n",
       "    <tr>\n",
       "      <th>net_capital_gl</th>\n",
       "      <td>0.059344</td>\n",
       "      <td>0.103821</td>\n",
       "      <td>0.053531</td>\n",
       "      <td>0.107006</td>\n",
       "      <td>-0.053541</td>\n",
       "      <td>0.943003</td>\n",
       "      <td>0.700385</td>\n",
       "      <td>0.227782</td>\n",
       "      <td>0.848641</td>\n",
       "      <td>0.960162</td>\n",
       "      <td>1.000000</td>\n",
       "      <td>0.091791</td>\n",
       "      <td>0.598224</td>\n",
       "      <td>0.845350</td>\n",
       "    </tr>\n",
       "    <tr>\n",
       "      <th>real_estate</th>\n",
       "      <td>0.593434</td>\n",
       "      <td>0.974785</td>\n",
       "      <td>0.984603</td>\n",
       "      <td>0.972972</td>\n",
       "      <td>0.955169</td>\n",
       "      <td>0.078233</td>\n",
       "      <td>0.075923</td>\n",
       "      <td>0.086036</td>\n",
       "      <td>0.084628</td>\n",
       "      <td>0.926961</td>\n",
       "      <td>0.091791</td>\n",
       "      <td>1.000000</td>\n",
       "      <td>0.092685</td>\n",
       "      <td>0.084147</td>\n",
       "    </tr>\n",
       "    <tr>\n",
       "      <th>total_tax</th>\n",
       "      <td>0.061195</td>\n",
       "      <td>0.106344</td>\n",
       "      <td>0.056833</td>\n",
       "      <td>0.114737</td>\n",
       "      <td>-0.048389</td>\n",
       "      <td>0.415635</td>\n",
       "      <td>0.955403</td>\n",
       "      <td>0.868074</td>\n",
       "      <td>0.916381</td>\n",
       "      <td>0.917181</td>\n",
       "      <td>0.598224</td>\n",
       "      <td>0.092685</td>\n",
       "      <td>1.000000</td>\n",
       "      <td>0.912158</td>\n",
       "    </tr>\n",
       "    <tr>\n",
       "      <th>prep</th>\n",
       "      <td>0.068492</td>\n",
       "      <td>0.109848</td>\n",
       "      <td>0.050245</td>\n",
       "      <td>0.119295</td>\n",
       "      <td>-0.060565</td>\n",
       "      <td>0.721931</td>\n",
       "      <td>0.970149</td>\n",
       "      <td>0.689947</td>\n",
       "      <td>0.987573</td>\n",
       "      <td>0.972595</td>\n",
       "      <td>0.845350</td>\n",
       "      <td>0.084147</td>\n",
       "      <td>0.912158</td>\n",
       "      <td>1.000000</td>\n",
       "    </tr>\n",
       "  </tbody>\n",
       "</table>\n",
       "</div>"
      ],
      "text/plain": [
       "                    agi_class  num_of_returns  num_of_exemptions  \\\n",
       "agi_class            1.000000        0.069530           0.110831   \n",
       "num_of_returns       0.069530        1.000000           0.816387   \n",
       "num_of_exemptions    0.110831        0.816387           1.000000   \n",
       "num_of_dependents    0.049119        0.980720           0.698572   \n",
       "num_of_itemized      0.102149        0.106787           0.653794   \n",
       "agi                  0.053574        0.082752           0.035859   \n",
       "total_salary         0.065533        0.098292           0.039707   \n",
       "taxable_interest     0.043173        0.063730           0.024901   \n",
       "ordinary_dividend    0.067511        0.111834           0.054864   \n",
       "qualified_dividend   0.683814        0.941710           0.943767   \n",
       "net_capital_gl       0.059344        0.103821           0.053531   \n",
       "real_estate          0.593434        0.974785           0.984603   \n",
       "total_tax            0.061195        0.106344           0.056833   \n",
       "prep                 0.068492        0.109848           0.050245   \n",
       "\n",
       "                    num_of_dependents  num_of_itemized       agi  \\\n",
       "agi_class                    0.049119         0.102149  0.053574   \n",
       "num_of_returns               0.980720         0.106787  0.082752   \n",
       "num_of_exemptions            0.698572         0.653794  0.035859   \n",
       "num_of_dependents            1.000000        -0.077234  0.086189   \n",
       "num_of_itemized             -0.077234         1.000000 -0.062843   \n",
       "agi                          0.086189        -0.062843  1.000000   \n",
       "total_salary                 0.110319        -0.064525  0.553991   \n",
       "taxable_interest             0.075663        -0.056944  0.005903   \n",
       "ordinary_dividend            0.119366        -0.055305  0.707366   \n",
       "qualified_dividend           0.925629         0.907101  0.965811   \n",
       "net_capital_gl               0.107006        -0.053541  0.943003   \n",
       "real_estate                  0.972972         0.955169  0.078233   \n",
       "total_tax                    0.114737        -0.048389  0.415635   \n",
       "prep                         0.119295        -0.060565  0.721931   \n",
       "\n",
       "                    total_salary  taxable_interest  ordinary_dividend  \\\n",
       "agi_class               0.065533          0.043173           0.067511   \n",
       "num_of_returns          0.098292          0.063730           0.111834   \n",
       "num_of_exemptions       0.039707          0.024901           0.054864   \n",
       "num_of_dependents       0.110319          0.075663           0.119366   \n",
       "num_of_itemized        -0.064525         -0.056944          -0.055305   \n",
       "agi                     0.553991          0.005903           0.707366   \n",
       "total_salary            1.000000          0.834547           0.958719   \n",
       "taxable_interest        0.834547          1.000000           0.686350   \n",
       "ordinary_dividend       0.958719          0.686350           1.000000   \n",
       "qualified_dividend      0.950719          0.876936           0.998960   \n",
       "net_capital_gl          0.700385          0.227782           0.848641   \n",
       "real_estate             0.075923          0.086036           0.084628   \n",
       "total_tax               0.955403          0.868074           0.916381   \n",
       "prep                    0.970149          0.689947           0.987573   \n",
       "\n",
       "                    qualified_dividend  net_capital_gl  real_estate  \\\n",
       "agi_class                     0.683814        0.059344     0.593434   \n",
       "num_of_returns                0.941710        0.103821     0.974785   \n",
       "num_of_exemptions             0.943767        0.053531     0.984603   \n",
       "num_of_dependents             0.925629        0.107006     0.972972   \n",
       "num_of_itemized               0.907101       -0.053541     0.955169   \n",
       "agi                           0.965811        0.943003     0.078233   \n",
       "total_salary                  0.950719        0.700385     0.075923   \n",
       "taxable_interest              0.876936        0.227782     0.086036   \n",
       "ordinary_dividend             0.998960        0.848641     0.084628   \n",
       "qualified_dividend            1.000000        0.960162     0.926961   \n",
       "net_capital_gl                0.960162        1.000000     0.091791   \n",
       "real_estate                   0.926961        0.091791     1.000000   \n",
       "total_tax                     0.917181        0.598224     0.092685   \n",
       "prep                          0.972595        0.845350     0.084147   \n",
       "\n",
       "                    total_tax      prep  \n",
       "agi_class            0.061195  0.068492  \n",
       "num_of_returns       0.106344  0.109848  \n",
       "num_of_exemptions    0.056833  0.050245  \n",
       "num_of_dependents    0.114737  0.119295  \n",
       "num_of_itemized     -0.048389 -0.060565  \n",
       "agi                  0.415635  0.721931  \n",
       "total_salary         0.955403  0.970149  \n",
       "taxable_interest     0.868074  0.689947  \n",
       "ordinary_dividend    0.916381  0.987573  \n",
       "qualified_dividend   0.917181  0.972595  \n",
       "net_capital_gl       0.598224  0.845350  \n",
       "real_estate          0.092685  0.084147  \n",
       "total_tax            1.000000  0.912158  \n",
       "prep                 0.912158  1.000000  "
      ]
     },
     "execution_count": 27,
     "metadata": {},
     "output_type": "execute_result"
    }
   ],
   "source": [
    "agg_state.corr()"
   ]
  },
  {
   "cell_type": "code",
   "execution_count": 28,
   "metadata": {},
   "outputs": [
    {
     "data": {
      "text/plain": [
       "<matplotlib.text.Text at 0x7f9930e98550>"
      ]
     },
     "execution_count": 28,
     "metadata": {},
     "output_type": "execute_result"
    },
    {
     "data": {
      "image/png": "[encoded data removed]",
      "text/plain": [
       "<matplotlib.figure.Figure at 0x7f9930e05b70>"
      ]
     },
     "metadata": {},
     "output_type": "display_data"
    }
   ],
   "source": [
    "sns.heatmap(agg_state[['agi', 'total_salary', 'taxable_interest', 'ordinary_dividend',\n",
    "                       'qualified_dividend', 'net_capital_gl', 'real_estate',\n",
    "                       'total_tax']].corr(), cmap='coolwarm')\n",
    "plt.title('Relatinoship between Each Variable 2005-2015')"
   ]
  },
  {
   "cell_type": "markdown",
   "metadata": {},
   "source": [
    "It is surprised to notice total tax amount and agi doesn't have a strong relationship. This is based on the data from 2005 and 2015. Let's explore more when 2009-2015 data."
   ]
  },
  {
   "cell_type": "code",
   "execution_count": 29,
   "metadata": {},
   "outputs": [],
   "source": [
    "agg_state_09_15 = raw_data[raw_data['year'] >= 2009].groupby(['year', 'state']).sum()"
   ]
  },
  {
   "cell_type": "code",
   "execution_count": 30,
   "metadata": {},
   "outputs": [
    {
     "data": {
      "text/html": [
       "<div>\n",
       "<style>\n",
       "    .dataframe thead tr:only-child th {\n",
       "        text-align: right;\n",
       "    }\n",
       "\n",
       "    .dataframe thead th {\n",
       "        text-align: left;\n",
       "    }\n",
       "\n",
       "    .dataframe tbody tr th {\n",
       "        vertical-align: top;\n",
       "    }\n",
       "</style>\n",
       "<table border=\"1\" class=\"dataframe\">\n",
       "  <thead>\n",
       "    <tr style=\"text-align: right;\">\n",
       "      <th></th>\n",
       "      <th>agi_class</th>\n",
       "      <th>num_of_returns</th>\n",
       "      <th>num_of_exemptions</th>\n",
       "      <th>num_of_dependents</th>\n",
       "      <th>num_of_itemized</th>\n",
       "      <th>agi</th>\n",
       "      <th>total_salary</th>\n",
       "      <th>taxable_interest</th>\n",
       "      <th>ordinary_dividend</th>\n",
       "      <th>qualified_dividend</th>\n",
       "      <th>net_capital_gl</th>\n",
       "      <th>real_estate</th>\n",
       "      <th>total_tax</th>\n",
       "      <th>prep</th>\n",
       "    </tr>\n",
       "  </thead>\n",
       "  <tbody>\n",
       "    <tr>\n",
       "      <th>agi_class</th>\n",
       "      <td>1.000000</td>\n",
       "      <td>0.707977</td>\n",
       "      <td>0.683968</td>\n",
       "      <td>0.691409</td>\n",
       "      <td>0.681746</td>\n",
       "      <td>0.704636</td>\n",
       "      <td>0.701029</td>\n",
       "      <td>0.498876</td>\n",
       "      <td>0.681117</td>\n",
       "      <td>0.683814</td>\n",
       "      <td>0.656276</td>\n",
       "      <td>0.659877</td>\n",
       "      <td>0.636672</td>\n",
       "      <td>0.700334</td>\n",
       "    </tr>\n",
       "    <tr>\n",
       "      <th>num_of_returns</th>\n",
       "      <td>0.707977</td>\n",
       "      <td>1.000000</td>\n",
       "      <td>0.991058</td>\n",
       "      <td>0.997273</td>\n",
       "      <td>0.987102</td>\n",
       "      <td>0.985140</td>\n",
       "      <td>0.986691</td>\n",
       "      <td>0.894101</td>\n",
       "      <td>0.944637</td>\n",
       "      <td>0.941710</td>\n",
       "      <td>0.869411</td>\n",
       "      <td>0.974201</td>\n",
       "      <td>0.912128</td>\n",
       "      <td>0.962852</td>\n",
       "    </tr>\n",
       "    <tr>\n",
       "      <th>num_of_exemptions</th>\n",
       "      <td>0.683968</td>\n",
       "      <td>0.991058</td>\n",
       "      <td>1.000000</td>\n",
       "      <td>0.989721</td>\n",
       "      <td>0.981120</td>\n",
       "      <td>0.986298</td>\n",
       "      <td>0.986621</td>\n",
       "      <td>0.907763</td>\n",
       "      <td>0.947955</td>\n",
       "      <td>0.943767</td>\n",
       "      <td>0.882121</td>\n",
       "      <td>0.984361</td>\n",
       "      <td>0.933548</td>\n",
       "      <td>0.967254</td>\n",
       "    </tr>\n",
       "    <tr>\n",
       "      <th>num_of_dependents</th>\n",
       "      <td>0.691409</td>\n",
       "      <td>0.997273</td>\n",
       "      <td>0.989721</td>\n",
       "      <td>1.000000</td>\n",
       "      <td>0.995180</td>\n",
       "      <td>0.980687</td>\n",
       "      <td>0.984566</td>\n",
       "      <td>0.884596</td>\n",
       "      <td>0.928684</td>\n",
       "      <td>0.925629</td>\n",
       "      <td>0.856065</td>\n",
       "      <td>0.972546</td>\n",
       "      <td>0.902819</td>\n",
       "      <td>0.955228</td>\n",
       "    </tr>\n",
       "    <tr>\n",
       "      <th>num_of_itemized</th>\n",
       "      <td>0.681746</td>\n",
       "      <td>0.987102</td>\n",
       "      <td>0.981120</td>\n",
       "      <td>0.995180</td>\n",
       "      <td>1.000000</td>\n",
       "      <td>0.973505</td>\n",
       "      <td>0.978754</td>\n",
       "      <td>0.854317</td>\n",
       "      <td>0.910341</td>\n",
       "      <td>0.907101</td>\n",
       "      <td>0.850017</td>\n",
       "      <td>0.961764</td>\n",
       "      <td>0.888714</td>\n",
       "      <td>0.948340</td>\n",
       "    </tr>\n",
       "    <tr>\n",
       "      <th>agi</th>\n",
       "      <td>0.704636</td>\n",
       "      <td>0.985140</td>\n",
       "      <td>0.986298</td>\n",
       "      <td>0.980687</td>\n",
       "      <td>0.973505</td>\n",
       "      <td>1.000000</td>\n",
       "      <td>0.998169</td>\n",
       "      <td>0.876153</td>\n",
       "      <td>0.968049</td>\n",
       "      <td>0.965811</td>\n",
       "      <td>0.925964</td>\n",
       "      <td>0.978766</td>\n",
       "      <td>0.947985</td>\n",
       "      <td>0.993889</td>\n",
       "    </tr>\n",
       "    <tr>\n",
       "      <th>total_salary</th>\n",
       "      <td>0.701029</td>\n",
       "      <td>0.986691</td>\n",
       "      <td>0.986621</td>\n",
       "      <td>0.984566</td>\n",
       "      <td>0.978754</td>\n",
       "      <td>0.998169</td>\n",
       "      <td>1.000000</td>\n",
       "      <td>0.872035</td>\n",
       "      <td>0.952954</td>\n",
       "      <td>0.950719</td>\n",
       "      <td>0.905330</td>\n",
       "      <td>0.982767</td>\n",
       "      <td>0.949147</td>\n",
       "      <td>0.988582</td>\n",
       "    </tr>\n",
       "    <tr>\n",
       "      <th>taxable_interest</th>\n",
       "      <td>0.498876</td>\n",
       "      <td>0.894101</td>\n",
       "      <td>0.907763</td>\n",
       "      <td>0.884596</td>\n",
       "      <td>0.854317</td>\n",
       "      <td>0.876153</td>\n",
       "      <td>0.872035</td>\n",
       "      <td>1.000000</td>\n",
       "      <td>0.884991</td>\n",
       "      <td>0.876936</td>\n",
       "      <td>0.778848</td>\n",
       "      <td>0.896699</td>\n",
       "      <td>0.872008</td>\n",
       "      <td>0.855150</td>\n",
       "    </tr>\n",
       "    <tr>\n",
       "      <th>ordinary_dividend</th>\n",
       "      <td>0.681117</td>\n",
       "      <td>0.944637</td>\n",
       "      <td>0.947955</td>\n",
       "      <td>0.928684</td>\n",
       "      <td>0.910341</td>\n",
       "      <td>0.968049</td>\n",
       "      <td>0.952954</td>\n",
       "      <td>0.884991</td>\n",
       "      <td>1.000000</td>\n",
       "      <td>0.998960</td>\n",
       "      <td>0.959158</td>\n",
       "      <td>0.931953</td>\n",
       "      <td>0.921561</td>\n",
       "      <td>0.974141</td>\n",
       "    </tr>\n",
       "    <tr>\n",
       "      <th>qualified_dividend</th>\n",
       "      <td>0.683814</td>\n",
       "      <td>0.941710</td>\n",
       "      <td>0.943767</td>\n",
       "      <td>0.925629</td>\n",
       "      <td>0.907101</td>\n",
       "      <td>0.965811</td>\n",
       "      <td>0.950719</td>\n",
       "      <td>0.876936</td>\n",
       "      <td>0.998960</td>\n",
       "      <td>1.000000</td>\n",
       "      <td>0.960162</td>\n",
       "      <td>0.926961</td>\n",
       "      <td>0.917181</td>\n",
       "      <td>0.972595</td>\n",
       "    </tr>\n",
       "    <tr>\n",
       "      <th>net_capital_gl</th>\n",
       "      <td>0.656276</td>\n",
       "      <td>0.869411</td>\n",
       "      <td>0.882121</td>\n",
       "      <td>0.856065</td>\n",
       "      <td>0.850017</td>\n",
       "      <td>0.925964</td>\n",
       "      <td>0.905330</td>\n",
       "      <td>0.778848</td>\n",
       "      <td>0.959158</td>\n",
       "      <td>0.960162</td>\n",
       "      <td>1.000000</td>\n",
       "      <td>0.860024</td>\n",
       "      <td>0.871577</td>\n",
       "      <td>0.953402</td>\n",
       "    </tr>\n",
       "    <tr>\n",
       "      <th>real_estate</th>\n",
       "      <td>0.659877</td>\n",
       "      <td>0.974201</td>\n",
       "      <td>0.984361</td>\n",
       "      <td>0.972546</td>\n",
       "      <td>0.961764</td>\n",
       "      <td>0.978766</td>\n",
       "      <td>0.982767</td>\n",
       "      <td>0.896699</td>\n",
       "      <td>0.931953</td>\n",
       "      <td>0.926961</td>\n",
       "      <td>0.860024</td>\n",
       "      <td>1.000000</td>\n",
       "      <td>0.950299</td>\n",
       "      <td>0.959294</td>\n",
       "    </tr>\n",
       "    <tr>\n",
       "      <th>total_tax</th>\n",
       "      <td>0.636672</td>\n",
       "      <td>0.912128</td>\n",
       "      <td>0.933548</td>\n",
       "      <td>0.902819</td>\n",
       "      <td>0.888714</td>\n",
       "      <td>0.947985</td>\n",
       "      <td>0.949147</td>\n",
       "      <td>0.872008</td>\n",
       "      <td>0.921561</td>\n",
       "      <td>0.917181</td>\n",
       "      <td>0.871577</td>\n",
       "      <td>0.950299</td>\n",
       "      <td>1.000000</td>\n",
       "      <td>0.953066</td>\n",
       "    </tr>\n",
       "    <tr>\n",
       "      <th>prep</th>\n",
       "      <td>0.700334</td>\n",
       "      <td>0.962852</td>\n",
       "      <td>0.967254</td>\n",
       "      <td>0.955228</td>\n",
       "      <td>0.948340</td>\n",
       "      <td>0.993889</td>\n",
       "      <td>0.988582</td>\n",
       "      <td>0.855150</td>\n",
       "      <td>0.974141</td>\n",
       "      <td>0.972595</td>\n",
       "      <td>0.953402</td>\n",
       "      <td>0.959294</td>\n",
       "      <td>0.953066</td>\n",
       "      <td>1.000000</td>\n",
       "    </tr>\n",
       "  </tbody>\n",
       "</table>\n",
       "</div>"
      ],
      "text/plain": [
       "                    agi_class  num_of_returns  num_of_exemptions  \\\n",
       "agi_class            1.000000        0.707977           0.683968   \n",
       "num_of_returns       0.707977        1.000000           0.991058   \n",
       "num_of_exemptions    0.683968        0.991058           1.000000   \n",
       "num_of_dependents    0.691409        0.997273           0.989721   \n",
       "num_of_itemized      0.681746        0.987102           0.981120   \n",
       "agi                  0.704636        0.985140           0.986298   \n",
       "total_salary         0.701029        0.986691           0.986621   \n",
       "taxable_interest     0.498876        0.894101           0.907763   \n",
       "ordinary_dividend    0.681117        0.944637           0.947955   \n",
       "qualified_dividend   0.683814        0.941710           0.943767   \n",
       "net_capital_gl       0.656276        0.869411           0.882121   \n",
       "real_estate          0.659877        0.974201           0.984361   \n",
       "total_tax            0.636672        0.912128           0.933548   \n",
       "prep                 0.700334        0.962852           0.967254   \n",
       "\n",
       "                    num_of_dependents  num_of_itemized       agi  \\\n",
       "agi_class                    0.691409         0.681746  0.704636   \n",
       "num_of_returns               0.997273         0.987102  0.985140   \n",
       "num_of_exemptions            0.989721         0.981120  0.986298   \n",
       "num_of_dependents            1.000000         0.995180  0.980687   \n",
       "num_of_itemized              0.995180         1.000000  0.973505   \n",
       "agi                          0.980687         0.973505  1.000000   \n",
       "total_salary                 0.984566         0.978754  0.998169   \n",
       "taxable_interest             0.884596         0.854317  0.876153   \n",
       "ordinary_dividend            0.928684         0.910341  0.968049   \n",
       "qualified_dividend           0.925629         0.907101  0.965811   \n",
       "net_capital_gl               0.856065         0.850017  0.925964   \n",
       "real_estate                  0.972546         0.961764  0.978766   \n",
       "total_tax                    0.902819         0.888714  0.947985   \n",
       "prep                         0.955228         0.948340  0.993889   \n",
       "\n",
       "                    total_salary  taxable_interest  ordinary_dividend  \\\n",
       "agi_class               0.701029          0.498876           0.681117   \n",
       "num_of_returns          0.986691          0.894101           0.944637   \n",
       "num_of_exemptions       0.986621          0.907763           0.947955   \n",
       "num_of_dependents       0.984566          0.884596           0.928684   \n",
       "num_of_itemized         0.978754          0.854317           0.910341   \n",
       "agi                     0.998169          0.876153           0.968049   \n",
       "total_salary            1.000000          0.872035           0.952954   \n",
       "taxable_interest        0.872035          1.000000           0.884991   \n",
       "ordinary_dividend       0.952954          0.884991           1.000000   \n",
       "qualified_dividend      0.950719          0.876936           0.998960   \n",
       "net_capital_gl          0.905330          0.778848           0.959158   \n",
       "real_estate             0.982767          0.896699           0.931953   \n",
       "total_tax               0.949147          0.872008           0.921561   \n",
       "prep                    0.988582          0.855150           0.974141   \n",
       "\n",
       "                    qualified_dividend  net_capital_gl  real_estate  \\\n",
       "agi_class                     0.683814        0.656276     0.659877   \n",
       "num_of_returns                0.941710        0.869411     0.974201   \n",
       "num_of_exemptions             0.943767        0.882121     0.984361   \n",
       "num_of_dependents             0.925629        0.856065     0.972546   \n",
       "num_of_itemized               0.907101        0.850017     0.961764   \n",
       "agi                           0.965811        0.925964     0.978766   \n",
       "total_salary                  0.950719        0.905330     0.982767   \n",
       "taxable_interest              0.876936        0.778848     0.896699   \n",
       "ordinary_dividend             0.998960        0.959158     0.931953   \n",
       "qualified_dividend            1.000000        0.960162     0.926961   \n",
       "net_capital_gl                0.960162        1.000000     0.860024   \n",
       "real_estate                   0.926961        0.860024     1.000000   \n",
       "total_tax                     0.917181        0.871577     0.950299   \n",
       "prep                          0.972595        0.953402     0.959294   \n",
       "\n",
       "                    total_tax      prep  \n",
       "agi_class            0.636672  0.700334  \n",
       "num_of_returns       0.912128  0.962852  \n",
       "num_of_exemptions    0.933548  0.967254  \n",
       "num_of_dependents    0.902819  0.955228  \n",
       "num_of_itemized      0.888714  0.948340  \n",
       "agi                  0.947985  0.993889  \n",
       "total_salary         0.949147  0.988582  \n",
       "taxable_interest     0.872008  0.855150  \n",
       "ordinary_dividend    0.921561  0.974141  \n",
       "qualified_dividend   0.917181  0.972595  \n",
       "net_capital_gl       0.871577  0.953402  \n",
       "real_estate          0.950299  0.959294  \n",
       "total_tax            1.000000  0.953066  \n",
       "prep                 0.953066  1.000000  "
      ]
     },
     "execution_count": 30,
     "metadata": {},
     "output_type": "execute_result"
    }
   ],
   "source": [
    "agg_state_09_15.corr()"
   ]
  },
  {
   "cell_type": "code",
   "execution_count": 31,
   "metadata": {},
   "outputs": [
    {
     "data": {
      "text/plain": [
       "<matplotlib.text.Text at 0x7f99264df0f0>"
      ]
     },
     "execution_count": 31,
     "metadata": {},
     "output_type": "execute_result"
    },
    {
     "data": {
      "image/png": "[encoded data removed]",
      "text/plain": [
       "<matplotlib.figure.Figure at 0x7f99306b0828>"
      ]
     },
     "metadata": {},
     "output_type": "display_data"
    }
   ],
   "source": [
    "sns.heatmap(agg_state[['agi', 'total_salary', 'taxable_interest', 'ordinary_dividend',\n",
    "                       'qualified_dividend', 'net_capital_gl', 'real_estate',\n",
    "                       'total_tax']].corr(), cmap='coolwarm')\n",
    "plt.title('Relatinoship between Each Variable 2009-2015')"
   ]
  },
  {
   "cell_type": "markdown",
   "metadata": {},
   "source": [
    "It seem that the pattern is the same regardless of how many years of data I use or whether I aggregage the data or not."
   ]
  },
  {
   "cell_type": "code",
   "execution_count": 32,
   "metadata": {},
   "outputs": [
    {
     "data": {
      "text/plain": [
       "<seaborn.axisgrid.FacetGrid at 0x7f99264d0748>"
      ]
     },
     "execution_count": 32,
     "metadata": {},
     "output_type": "execute_result"
    },
    {
     "data": {
      "image/png": "[encoded data removed]",
      "text/plain": [
       "<matplotlib.figure.Figure at 0x7f9926520898>"
      ]
     },
     "metadata": {},
     "output_type": "display_data"
    }
   ],
   "source": [
    "sns.lmplot(data=agg_state, x='agi', y='total_salary')"
   ]
  },
  {
   "cell_type": "markdown",
   "metadata": {},
   "source": [
    "There might be a certain amount of people who have high alimony payment or other payment that althought they have a very high salary, they do not have any AGI. Most people's AGI has a positive relationship with total salary amount."
   ]
  },
  {
   "cell_type": "code",
   "execution_count": 33,
   "metadata": {},
   "outputs": [
    {
     "data": {
      "text/plain": [
       "<seaborn.axisgrid.FacetGrid at 0x7f99264196a0>"
      ]
     },
     "execution_count": 33,
     "metadata": {},
     "output_type": "execute_result"
    },
    {
     "data": {
      "image/png": "[encoded data removed]",
      "text/plain": [
       "<matplotlib.figure.Figure at 0x7f9926419438>"
      ]
     },
     "metadata": {},
     "output_type": "display_data"
    }
   ],
   "source": [
    "sns.lmplot(data=agg_state, x='total_tax', y='total_salary')"
   ]
  },
  {
   "cell_type": "code",
   "execution_count": 34,
   "metadata": {},
   "outputs": [
    {
     "data": {
      "text/plain": [
       "<seaborn.axisgrid.FacetGrid at 0x7f99263c7be0>"
      ]
     },
     "execution_count": 34,
     "metadata": {},
     "output_type": "execute_result"
    },
    {
     "data": {
      "image/png": "[encoded data removed]",
      "text/plain": [
       "<matplotlib.figure.Figure at 0x7f99263c7898>"
      ]
     },
     "metadata": {},
     "output_type": "display_data"
    }
   ],
   "source": [
    "sns.lmplot(data=agg_state, x='total_tax', y='net_capital_gl')"
   ]
  },
  {
   "cell_type": "code",
   "execution_count": 35,
   "metadata": {},
   "outputs": [
    {
     "data": {
      "text/plain": [
       "<seaborn.axisgrid.FacetGrid at 0x7f99263801d0>"
      ]
     },
     "execution_count": 35,
     "metadata": {},
     "output_type": "execute_result"
    },
    {
     "data": {
      "image/png": "[encoded data removed]",
      "text/plain": [
       "<matplotlib.figure.Figure at 0x7f992637b0f0>"
      ]
     },
     "metadata": {},
     "output_type": "display_data"
    }
   ],
   "source": [
    "sns.lmplot(data=agg_state, x='net_capital_gl', y='total_salary', )"
   ]
  },
  {
   "cell_type": "markdown",
   "metadata": {},
   "source": [
    "People with higher capital gain do not necessarily have higher salary. They might focus more on investment other than daily job."
   ]
  },
  {
   "cell_type": "markdown",
   "metadata": {},
   "source": [
    "### Wrap Up\n",
    "\n",
    "After concatenate the 10 year tax data, there are 1,953,802 rows in total with 16 total variables. The above analysis shows some issues with original dataset. Data is not well collected in 2009. The total amount of data in 2009 is significantly less than that of the other years. 2005 to 2008 data is not consistent with the other year, they has unreasonable higher amount than the other years.\n",
    "\n",
    "Since the goal of the model is to predict the tax due in current year and in the future, the chaos in the 2005-2008 data could do more harm than good. I will use both the whole dataset and the 2009 (or 2010 since 2009 doesn't have enough data) to 2015 data to train the model separately to see which one is better.\n",
    "Although we see there are some inconsistency of the data in each year, the pattern is very similar. The total tax has a strong positive relationship with total salary amount. Surprisedly, it doesn't have a strong relationship with AGI amount.\n",
    "\n",
    "There are certain amount of people have strong positive relationship between their total salary and their AGI, while the other doesn't have any relationship at all. This might because of alimony or tuition.\n",
    "\n",
    "Total salary and net capital gain&loss doesn't have a strong relationship. People with higher salary doesn't have higher investment than others with lower salary. "
   ]
  },
  {
   "cell_type": "markdown",
   "metadata": {},
   "source": [
    "## Data Preprocessing"
   ]
  },
  {
   "cell_type": "markdown",
   "metadata": {},
   "source": [
    "To train the model that can predict the final tax amount, we do not need the all the variables shown above. For example, total number of returns per year is irrelevant for the model. I will use the following steps to clean the data:\n",
    "\n",
    "* Manually select the variables based on my domain knowledge\n",
    "* Deal with missing values and outliers\n",
    "* Deal with categorical variables\n",
    "* Scale the data to make them under same range."
   ]
  },
  {
   "cell_type": "markdown",
   "metadata": {},
   "source": [
    "### Missing Values & Outliers"
   ]
  },
  {
   "cell_type": "code",
   "execution_count": 36,
   "metadata": {},
   "outputs": [],
   "source": [
    "clean_data = raw_data[(raw_data['agi_class'] >= 1) & (raw_data['agi_class'] <=6)].copy()"
   ]
  },
  {
   "cell_type": "code",
   "execution_count": 37,
   "metadata": {
    "scrolled": false
   },
   "outputs": [
    {
     "data": {
      "text/plain": [
       "<matplotlib.text.Text at 0x7f99262570b8>"
      ]
     },
     "execution_count": 37,
     "metadata": {},
     "output_type": "execute_result"
    },
    {
     "data": {
      "image/png": "[encoded data removed]",
      "text/plain": [
       "<matplotlib.figure.Figure at 0x7f99262a2ba8>"
      ]
     },
     "metadata": {},
     "output_type": "display_data"
    }
   ],
   "source": [
    "sns.heatmap(clean_data.isnull(), yticklabels=False, cbar=False, cmap='viridis')\n",
    "plt.title('Missing Values')"
   ]
  },
  {
   "cell_type": "code",
   "execution_count": 38,
   "metadata": {},
   "outputs": [
    {
     "data": {
      "text/plain": [
       "<seaborn.axisgrid.FacetGrid at 0x7f992628e160>"
      ]
     },
     "execution_count": 38,
     "metadata": {},
     "output_type": "execute_result"
    },
    {
     "data": {
      "image/png": "[encoded data removed]",
      "text/plain": [
       "<matplotlib.figure.Figure at 0x7f9930b8dc50>"
      ]
     },
     "metadata": {},
     "output_type": "display_data"
    }
   ],
   "source": [
    "sns.lmplot(data=clean_data, x='ordinary_dividend', y='qualified_dividend')"
   ]
  },
  {
   "cell_type": "code",
   "execution_count": 39,
   "metadata": {},
   "outputs": [
    {
     "data": {
      "text/plain": [
       "<seaborn.axisgrid.FacetGrid at 0x7f99261faf98>"
      ]
     },
     "execution_count": 39,
     "metadata": {},
     "output_type": "execute_result"
    },
    {
     "data": {
      "image/png": "[encoded data removed]",
      "text/plain": [
       "<matplotlib.figure.Figure at 0x7f99261fad30>"
      ]
     },
     "metadata": {},
     "output_type": "display_data"
    }
   ],
   "source": [
    "sns.lmplot(data=clean_data, x='num_of_exemptions', y='num_of_dependents')"
   ]
  },
  {
   "cell_type": "markdown",
   "metadata": {},
   "source": [
    "There are a lot of missing values under qualified_dividend and real_estate. As shown in previous visualization, qualified dividend and ordinary dividend are strongly related with each other. Therefore, to deal with missing values, and to deal with potential collinearity issues, I will drop qualified_dividend variable. Same with num_of_exeptions.\n",
    "\n",
    "We miss around a third of real estate information and a little of other variables. I will fill in the based on the rest of the values.\n",
    "\n",
    "Total_tax is the target variable, and only a few of them are missing. I will directly drop the missing values."
   ]
  },
  {
   "cell_type": "code",
   "execution_count": 40,
   "metadata": {
    "scrolled": true
   },
   "outputs": [
    {
     "data": {
      "text/plain": [
       "<matplotlib.axes._subplots.AxesSubplot at 0x7f9926203a90>"
      ]
     },
     "execution_count": 40,
     "metadata": {},
     "output_type": "execute_result"
    },
    {
     "data": {
      "image/png": "[encoded data removed]",
      "text/plain": [
       "<matplotlib.figure.Figure at 0x7f99261d0fd0>"
      ]
     },
     "metadata": {},
     "output_type": "display_data"
    }
   ],
   "source": [
    "sns.boxplot(data=clean_data, x='agi_class', y='real_estate')"
   ]
  },
  {
   "cell_type": "code",
   "execution_count": 41,
   "metadata": {},
   "outputs": [
    {
     "data": {
      "text/plain": [
       "<matplotlib.axes._subplots.AxesSubplot at 0x7f9925c47c88>"
      ]
     },
     "execution_count": 41,
     "metadata": {},
     "output_type": "execute_result"
    },
    {
     "data": {
      "image/png": "[encoded data removed]",
      "text/plain": [
       "<matplotlib.figure.Figure at 0x7f99263cc438>"
      ]
     },
     "metadata": {},
     "output_type": "display_data"
    }
   ],
   "source": [
    "sns.boxplot(data=clean_data, x='agi_class', y='ordinary_dividend')"
   ]
  },
  {
   "cell_type": "code",
   "execution_count": 42,
   "metadata": {},
   "outputs": [
    {
     "data": {
      "text/plain": [
       "<matplotlib.axes._subplots.AxesSubplot at 0x7f991fc35eb8>"
      ]
     },
     "execution_count": 42,
     "metadata": {},
     "output_type": "execute_result"
    },
    {
     "data": {
      "image/png": "[encoded data removed]",
      "text/plain": [
       "<matplotlib.figure.Figure at 0x7f99261dd860>"
      ]
     },
     "metadata": {},
     "output_type": "display_data"
    }
   ],
   "source": [
    "sns.boxplot(data=clean_data, x='agi_class', y='num_of_dependents')"
   ]
  },
  {
   "cell_type": "code",
   "execution_count": 43,
   "metadata": {},
   "outputs": [
    {
     "data": {
      "text/plain": [
       "<matplotlib.axes._subplots.AxesSubplot at 0x7f9925fe5e80>"
      ]
     },
     "execution_count": 43,
     "metadata": {},
     "output_type": "execute_result"
    },
    {
     "data": {
      "image/png": "[encoded data removed]",
      "text/plain": [
       "<matplotlib.figure.Figure at 0x7f9926171a58>"
      ]
     },
     "metadata": {},
     "output_type": "display_data"
    }
   ],
   "source": [
    "sns.boxplot(data=clean_data, x='agi_class', y='total_salary')"
   ]
  },
  {
   "cell_type": "code",
   "execution_count": 44,
   "metadata": {},
   "outputs": [
    {
     "data": {
      "text/plain": [
       "<matplotlib.axes._subplots.AxesSubplot at 0x7f991fa80e10>"
      ]
     },
     "execution_count": 44,
     "metadata": {},
     "output_type": "execute_result"
    },
    {
     "data": {
      "image/png": "[encoded data removed]",
      "text/plain": [
       "<matplotlib.figure.Figure at 0x7f9926166e10>"
      ]
     },
     "metadata": {},
     "output_type": "display_data"
    }
   ],
   "source": [
    "sns.boxplot(data=clean_data, x='agi_class', y='net_capital_gl')"
   ]
  },
  {
   "cell_type": "code",
   "execution_count": 45,
   "metadata": {},
   "outputs": [],
   "source": [
    "clean_columns = ['num_of_dependents', 'total_salary', 'taxable_interest',\n",
    "                'ordinary_dividend', 'net_capital_gl', 'real_estate']\n",
    "\n",
    "for col in clean_columns:\n",
    "    need_clean_1 = clean_data[clean_data['agi_class'] == 1][col].median()\n",
    "    need_clean_2 = clean_data[clean_data['agi_class'] == 2][col].median()\n",
    "    need_clean_3 = clean_data[clean_data['agi_class'] == 3][col].median()\n",
    "    need_clean_4 = clean_data[clean_data['agi_class'] == 4][col].median()\n",
    "    need_clean_5 = clean_data[clean_data['agi_class'] == 5][col].median()\n",
    "    need_clean_6 = clean_data[clean_data['agi_class'] == 6][col].median()\n",
    "    \n",
    "    clean_data.loc[(clean_data.agi_class == 1) & (clean_data[col].isnull()), col] = need_clean_1\n",
    "    clean_data.loc[(clean_data.agi_class == 2) & (clean_data[col].isnull()), col] = need_clean_2\n",
    "    clean_data.loc[(clean_data.agi_class == 3) & (clean_data[col].isnull()), col] = need_clean_3\n",
    "    clean_data.loc[(clean_data.agi_class == 4) & (clean_data[col].isnull()), col] = need_clean_4\n",
    "    clean_data.loc[(clean_data.agi_class == 5) & (clean_data[col].isnull()), col] = need_clean_5\n",
    "    clean_data.loc[(clean_data.agi_class == 6) & (clean_data[col].isnull()), col] = need_clean_6"
   ]
  },
  {
   "cell_type": "code",
   "execution_count": 46,
   "metadata": {},
   "outputs": [],
   "source": [
    "clean_data = clean_data.drop('qualified_dividend', axis=1)"
   ]
  },
  {
   "cell_type": "code",
   "execution_count": 47,
   "metadata": {},
   "outputs": [
    {
     "data": {
      "text/plain": [
       "<matplotlib.axes._subplots.AxesSubplot at 0x7f991f999eb8>"
      ]
     },
     "execution_count": 47,
     "metadata": {},
     "output_type": "execute_result"
    },
    {
     "data": {
      "image/png": "[encoded data removed]",
      "text/plain": [
       "<matplotlib.figure.Figure at 0x7f991f9a2eb8>"
      ]
     },
     "metadata": {},
     "output_type": "display_data"
    }
   ],
   "source": [
    "sns.heatmap(clean_data.isnull(), yticklabels=False, cbar=False, cmap='viridis')"
   ]
  },
  {
   "cell_type": "markdown",
   "metadata": {},
   "source": [
    "## Implementation"
   ]
  },
  {
   "cell_type": "code",
   "execution_count": 59,
   "metadata": {},
   "outputs": [],
   "source": [
    "from sklearn.preprocessing import StandardScaler\n",
    "from sklearn.model_selection import train_test_split, GridSearchCV, ShuffleSplit, cross_val_score\n",
    "from sklearn.linear_model import LinearRegression\n",
    "from sklearn.tree import DecisionTreeRegressor\n",
    "from sklearn.neighbors import KNeighborsRegressor\n",
    "from sklearn.ensemble import RandomForestRegressor\n",
    "from sklearn.neural_network import MLPRegressor\n",
    "from sklearn.metrics import classification_report\n",
    "from sklearn.ensemble import RandomForestRegressor\n",
    "from sklearn.metrics import explained_variance_score, make_scorer"
   ]
  },
  {
   "cell_type": "markdown",
   "metadata": {},
   "source": [
    "### Feature Selection"
   ]
  },
  {
   "cell_type": "code",
   "execution_count": 60,
   "metadata": {},
   "outputs": [],
   "source": [
    "cleaned_data = clean_data[['state', 'num_of_dependents', 'total_salary', 'taxable_interest',\n",
    "                         'ordinary_dividend','net_capital_gl', 'real_estate', 'total_tax']].copy()\n",
    "cleaned_data.dropna(inplace=True)\n",
    "cleaned_data.reset_index(inplace=True, drop=True)"
   ]
  },
  {
   "cell_type": "code",
   "execution_count": 61,
   "metadata": {},
   "outputs": [],
   "source": [
    "state = pd.get_dummies(cleaned_data['state'], drop_first=True)"
   ]
  },
  {
   "cell_type": "code",
   "execution_count": 62,
   "metadata": {},
   "outputs": [],
   "source": [
    "cleaned_data = pd.concat([cleaned_data, state], axis=1)"
   ]
  },
  {
   "cell_type": "code",
   "execution_count": 63,
   "metadata": {},
   "outputs": [],
   "source": [
    "cleaned_data = cleaned_data.drop('state', axis=1)"
   ]
  },
  {
   "cell_type": "code",
   "execution_count": 64,
   "metadata": {},
   "outputs": [
    {
     "data": {
      "text/html": [
       "<div>\n",
       "<style>\n",
       "    .dataframe thead tr:only-child th {\n",
       "        text-align: right;\n",
       "    }\n",
       "\n",
       "    .dataframe thead th {\n",
       "        text-align: left;\n",
       "    }\n",
       "\n",
       "    .dataframe tbody tr th {\n",
       "        vertical-align: top;\n",
       "    }\n",
       "</style>\n",
       "<table border=\"1\" class=\"dataframe\">\n",
       "  <thead>\n",
       "    <tr style=\"text-align: right;\">\n",
       "      <th></th>\n",
       "      <th>num_of_dependents</th>\n",
       "      <th>total_salary</th>\n",
       "      <th>taxable_interest</th>\n",
       "      <th>ordinary_dividend</th>\n",
       "      <th>net_capital_gl</th>\n",
       "      <th>real_estate</th>\n",
       "      <th>total_tax</th>\n",
       "      <th>AL</th>\n",
       "      <th>AR</th>\n",
       "      <th>AZ</th>\n",
       "      <th>...</th>\n",
       "      <th>SD</th>\n",
       "      <th>TN</th>\n",
       "      <th>TX</th>\n",
       "      <th>UT</th>\n",
       "      <th>VA</th>\n",
       "      <th>VT</th>\n",
       "      <th>WA</th>\n",
       "      <th>WI</th>\n",
       "      <th>WV</th>\n",
       "      <th>WY</th>\n",
       "    </tr>\n",
       "  </thead>\n",
       "  <tbody>\n",
       "    <tr>\n",
       "      <th>0</th>\n",
       "      <td>342.0</td>\n",
       "      <td>235.0</td>\n",
       "      <td>231.0</td>\n",
       "      <td>209.0</td>\n",
       "      <td>36.0</td>\n",
       "      <td>40.0</td>\n",
       "      <td>116.0</td>\n",
       "      <td>0</td>\n",
       "      <td>0</td>\n",
       "      <td>0</td>\n",
       "      <td>...</td>\n",
       "      <td>0</td>\n",
       "      <td>0</td>\n",
       "      <td>0</td>\n",
       "      <td>0</td>\n",
       "      <td>0</td>\n",
       "      <td>0</td>\n",
       "      <td>0</td>\n",
       "      <td>0</td>\n",
       "      <td>0</td>\n",
       "      <td>0</td>\n",
       "    </tr>\n",
       "    <tr>\n",
       "      <th>1</th>\n",
       "      <td>683.0</td>\n",
       "      <td>750.0</td>\n",
       "      <td>538.0</td>\n",
       "      <td>180.0</td>\n",
       "      <td>133.0</td>\n",
       "      <td>80.0</td>\n",
       "      <td>1436.0</td>\n",
       "      <td>0</td>\n",
       "      <td>0</td>\n",
       "      <td>0</td>\n",
       "      <td>...</td>\n",
       "      <td>0</td>\n",
       "      <td>0</td>\n",
       "      <td>0</td>\n",
       "      <td>0</td>\n",
       "      <td>0</td>\n",
       "      <td>0</td>\n",
       "      <td>0</td>\n",
       "      <td>0</td>\n",
       "      <td>0</td>\n",
       "      <td>0</td>\n",
       "    </tr>\n",
       "    <tr>\n",
       "      <th>2</th>\n",
       "      <td>736.0</td>\n",
       "      <td>860.0</td>\n",
       "      <td>832.0</td>\n",
       "      <td>586.0</td>\n",
       "      <td>311.0</td>\n",
       "      <td>90.0</td>\n",
       "      <td>5896.0</td>\n",
       "      <td>0</td>\n",
       "      <td>0</td>\n",
       "      <td>0</td>\n",
       "      <td>...</td>\n",
       "      <td>0</td>\n",
       "      <td>0</td>\n",
       "      <td>0</td>\n",
       "      <td>0</td>\n",
       "      <td>0</td>\n",
       "      <td>0</td>\n",
       "      <td>0</td>\n",
       "      <td>0</td>\n",
       "      <td>0</td>\n",
       "      <td>0</td>\n",
       "    </tr>\n",
       "    <tr>\n",
       "      <th>3</th>\n",
       "      <td>303.0</td>\n",
       "      <td>1104.0</td>\n",
       "      <td>1029.0</td>\n",
       "      <td>1687.0</td>\n",
       "      <td>331.0</td>\n",
       "      <td>80.0</td>\n",
       "      <td>6245.0</td>\n",
       "      <td>0</td>\n",
       "      <td>0</td>\n",
       "      <td>0</td>\n",
       "      <td>...</td>\n",
       "      <td>0</td>\n",
       "      <td>0</td>\n",
       "      <td>0</td>\n",
       "      <td>0</td>\n",
       "      <td>0</td>\n",
       "      <td>0</td>\n",
       "      <td>0</td>\n",
       "      <td>0</td>\n",
       "      <td>0</td>\n",
       "      <td>0</td>\n",
       "    </tr>\n",
       "    <tr>\n",
       "      <th>4</th>\n",
       "      <td>153.0</td>\n",
       "      <td>683.0</td>\n",
       "      <td>607.0</td>\n",
       "      <td>981.0</td>\n",
       "      <td>239.0</td>\n",
       "      <td>102.0</td>\n",
       "      <td>5134.0</td>\n",
       "      <td>0</td>\n",
       "      <td>0</td>\n",
       "      <td>0</td>\n",
       "      <td>...</td>\n",
       "      <td>0</td>\n",
       "      <td>0</td>\n",
       "      <td>0</td>\n",
       "      <td>0</td>\n",
       "      <td>0</td>\n",
       "      <td>0</td>\n",
       "      <td>0</td>\n",
       "      <td>0</td>\n",
       "      <td>0</td>\n",
       "      <td>0</td>\n",
       "    </tr>\n",
       "  </tbody>\n",
       "</table>\n",
       "<p>5 rows × 57 columns</p>\n",
       "</div>"
      ],
      "text/plain": [
       "   num_of_dependents  total_salary  taxable_interest  ordinary_dividend  \\\n",
       "0              342.0         235.0             231.0              209.0   \n",
       "1              683.0         750.0             538.0              180.0   \n",
       "2              736.0         860.0             832.0              586.0   \n",
       "3              303.0        1104.0            1029.0             1687.0   \n",
       "4              153.0         683.0             607.0              981.0   \n",
       "\n",
       "   net_capital_gl  real_estate  total_tax  AL  AR  AZ ...  SD  TN  TX  UT  VA  \\\n",
       "0            36.0         40.0      116.0   0   0   0 ...   0   0   0   0   0   \n",
       "1           133.0         80.0     1436.0   0   0   0 ...   0   0   0   0   0   \n",
       "2           311.0         90.0     5896.0   0   0   0 ...   0   0   0   0   0   \n",
       "3           331.0         80.0     6245.0   0   0   0 ...   0   0   0   0   0   \n",
       "4           239.0        102.0     5134.0   0   0   0 ...   0   0   0   0   0   \n",
       "\n",
       "   VT  WA  WI  WV  WY  \n",
       "0   0   0   0   0   0  \n",
       "1   0   0   0   0   0  \n",
       "2   0   0   0   0   0  \n",
       "3   0   0   0   0   0  \n",
       "4   0   0   0   0   0  \n",
       "\n",
       "[5 rows x 57 columns]"
      ]
     },
     "execution_count": 64,
     "metadata": {},
     "output_type": "execute_result"
    }
   ],
   "source": [
    "cleaned_data.head()"
   ]
  },
  {
   "cell_type": "markdown",
   "metadata": {},
   "source": [
    "### Feature Scaling"
   ]
  },
  {
   "cell_type": "code",
   "execution_count": 65,
   "metadata": {},
   "outputs": [],
   "source": [
    "scaler = StandardScaler()\n",
    "cleaned_data[['num_of_dependents', 'total_salary', 'taxable_interest',\n",
    "              'ordinary_dividend','net_capital_gl', 'real_estate']] = \\\n",
    "    scaler.fit_transform(cleaned_data[['num_of_dependents', 'total_salary', 'taxable_interest',\n",
    "                                       'ordinary_dividend','net_capital_gl', 'real_estate']])"
   ]
  },
  {
   "cell_type": "code",
   "execution_count": 66,
   "metadata": {},
   "outputs": [],
   "source": [
    "X = cleaned_data.drop('total_tax', axis=1)\n",
    "y = cleaned_data['total_tax']"
   ]
  },
  {
   "cell_type": "markdown",
   "metadata": {},
   "source": [
    "### Shuffle & Split Data"
   ]
  },
  {
   "cell_type": "code",
   "execution_count": 67,
   "metadata": {},
   "outputs": [],
   "source": [
    "X_train, X_test, y_train, y_test = train_test_split(X, y, test_size=0.2, random_state=106)"
   ]
  },
  {
   "cell_type": "code",
   "execution_count": 68,
   "metadata": {},
   "outputs": [
    {
     "name": "stdout",
     "output_type": "stream",
     "text": [
      "Train set has 1418060 samples\n",
      "Testing set has 354515 samples\n"
     ]
    }
   ],
   "source": [
    "print(\"Train set has {} samples\".format(X_train.shape[0]))\n",
    "print(\"Testing set has {} samples\".format(X_test.shape[0]))"
   ]
  },
  {
   "cell_type": "code",
   "execution_count": 69,
   "metadata": {},
   "outputs": [],
   "source": [
    "cv = ShuffleSplit(\n",
    "    n_splits = 3,\n",
    "    test_size = 0.2,\n",
    "    random_state = 106\n",
    ")"
   ]
  },
  {
   "cell_type": "code",
   "execution_count": 70,
   "metadata": {},
   "outputs": [],
   "source": [
    "scorer = make_scorer(explained_variance_score)"
   ]
  },
  {
   "cell_type": "markdown",
   "metadata": {},
   "source": [
    "### Linear Regression"
   ]
  },
  {
   "cell_type": "code",
   "execution_count": 71,
   "metadata": {},
   "outputs": [],
   "source": [
    "lr = LinearRegression()\n",
    "lr.fit(X_train, y_train)\n",
    "pred = lr.predict(X_test)"
   ]
  },
  {
   "cell_type": "code",
   "execution_count": 72,
   "metadata": {},
   "outputs": [
    {
     "name": "stdout",
     "output_type": "stream",
     "text": [
      "0.752895696401\n"
     ]
    }
   ],
   "source": [
    "score = explained_variance_score(y_test, pred)\n",
    "print(score)"
   ]
  },
  {
   "cell_type": "markdown",
   "metadata": {},
   "source": [
    "### Decision Tree"
   ]
  },
  {
   "cell_type": "code",
   "execution_count": 73,
   "metadata": {},
   "outputs": [
    {
     "name": "stdout",
     "output_type": "stream",
     "text": [
      "0.763836385255\n"
     ]
    }
   ],
   "source": [
    "tree = DecisionTreeRegressor()\n",
    "tree.fit(X_train, y_train)\n",
    "pred = tree.predict(X_test)\n",
    "score = explained_variance_score(y_test, pred)\n",
    "print(score)"
   ]
  },
  {
   "cell_type": "code",
   "execution_count": 74,
   "metadata": {},
   "outputs": [
    {
     "name": "stdout",
     "output_type": "stream",
     "text": [
      "Fitting 3 folds for each of 9 candidates, totalling 27 fits\n",
      "[CV] min_samples_leaf=2, min_samples_split=2 .........................\n",
      "[CV] .......... min_samples_leaf=2, min_samples_split=2, total=  31.7s\n",
      "[CV] min_samples_leaf=2, min_samples_split=2 .........................\n"
     ]
    },
    {
     "name": "stderr",
     "output_type": "stream",
     "text": [
      "[Parallel(n_jobs=1)]: Done   1 out of   1 | elapsed:   32.7s remaining:    0.0s\n"
     ]
    },
    {
     "name": "stdout",
     "output_type": "stream",
     "text": [
      "[CV] .......... min_samples_leaf=2, min_samples_split=2, total=  29.8s\n",
      "[CV] min_samples_leaf=2, min_samples_split=2 .........................\n",
      "[CV] .......... min_samples_leaf=2, min_samples_split=2, total=  30.1s\n",
      "[CV] min_samples_leaf=2, min_samples_split=3 .........................\n",
      "[CV] .......... min_samples_leaf=2, min_samples_split=3, total=  31.1s\n",
      "[CV] min_samples_leaf=2, min_samples_split=3 .........................\n",
      "[CV] .......... min_samples_leaf=2, min_samples_split=3, total=  30.9s\n",
      "[CV] min_samples_leaf=2, min_samples_split=3 .........................\n",
      "[CV] .......... min_samples_leaf=2, min_samples_split=3, total=  30.6s\n",
      "[CV] min_samples_leaf=2, min_samples_split=5 .........................\n",
      "[CV] .......... min_samples_leaf=2, min_samples_split=5, total=  30.6s\n",
      "[CV] min_samples_leaf=2, min_samples_split=5 .........................\n",
      "[CV] .......... min_samples_leaf=2, min_samples_split=5, total=  30.0s\n",
      "[CV] min_samples_leaf=2, min_samples_split=5 .........................\n",
      "[CV] .......... min_samples_leaf=2, min_samples_split=5, total=  31.0s\n",
      "[CV] min_samples_leaf=3, min_samples_split=2 .........................\n",
      "[CV] .......... min_samples_leaf=3, min_samples_split=2, total=  31.2s\n",
      "[CV] min_samples_leaf=3, min_samples_split=2 .........................\n",
      "[CV] .......... min_samples_leaf=3, min_samples_split=2, total=  29.0s\n",
      "[CV] min_samples_leaf=3, min_samples_split=2 .........................\n",
      "[CV] .......... min_samples_leaf=3, min_samples_split=2, total=  28.2s\n",
      "[CV] min_samples_leaf=3, min_samples_split=3 .........................\n",
      "[CV] .......... min_samples_leaf=3, min_samples_split=3, total=  29.6s\n",
      "[CV] min_samples_leaf=3, min_samples_split=3 .........................\n",
      "[CV] .......... min_samples_leaf=3, min_samples_split=3, total=  30.2s\n",
      "[CV] min_samples_leaf=3, min_samples_split=3 .........................\n",
      "[CV] .......... min_samples_leaf=3, min_samples_split=3, total=  29.4s\n",
      "[CV] min_samples_leaf=3, min_samples_split=5 .........................\n",
      "[CV] .......... min_samples_leaf=3, min_samples_split=5, total=  29.9s\n",
      "[CV] min_samples_leaf=3, min_samples_split=5 .........................\n",
      "[CV] .......... min_samples_leaf=3, min_samples_split=5, total=  29.4s\n",
      "[CV] min_samples_leaf=3, min_samples_split=5 .........................\n",
      "[CV] .......... min_samples_leaf=3, min_samples_split=5, total=  29.4s\n",
      "[CV] min_samples_leaf=5, min_samples_split=2 .........................\n",
      "[CV] .......... min_samples_leaf=5, min_samples_split=2, total=  29.8s\n",
      "[CV] min_samples_leaf=5, min_samples_split=2 .........................\n",
      "[CV] .......... min_samples_leaf=5, min_samples_split=2, total=  28.7s\n",
      "[CV] min_samples_leaf=5, min_samples_split=2 .........................\n",
      "[CV] .......... min_samples_leaf=5, min_samples_split=2, total=  27.0s\n",
      "[CV] min_samples_leaf=5, min_samples_split=3 .........................\n",
      "[CV] .......... min_samples_leaf=5, min_samples_split=3, total=  28.0s\n",
      "[CV] min_samples_leaf=5, min_samples_split=3 .........................\n",
      "[CV] .......... min_samples_leaf=5, min_samples_split=3, total=  27.5s\n",
      "[CV] min_samples_leaf=5, min_samples_split=3 .........................\n",
      "[CV] .......... min_samples_leaf=5, min_samples_split=3, total=  28.6s\n",
      "[CV] min_samples_leaf=5, min_samples_split=5 .........................\n",
      "[CV] .......... min_samples_leaf=5, min_samples_split=5, total=  29.5s\n",
      "[CV] min_samples_leaf=5, min_samples_split=5 .........................\n",
      "[CV] .......... min_samples_leaf=5, min_samples_split=5, total=  28.9s\n",
      "[CV] min_samples_leaf=5, min_samples_split=5 .........................\n",
      "[CV] .......... min_samples_leaf=5, min_samples_split=5, total=  28.4s\n"
     ]
    },
    {
     "name": "stderr",
     "output_type": "stream",
     "text": [
      "[Parallel(n_jobs=1)]: Done  27 out of  27 | elapsed: 13.8min finished\n"
     ]
    }
   ],
   "source": [
    "parameters = {\n",
    "    'min_samples_split': [2, 3, 5],\n",
    "    'min_samples_leaf': [2, 3, 5]\n",
    "}\n",
    "grid = GridSearchCV(DecisionTreeRegressor(), param_grid=parameters, scoring=scorer, cv=cv, verbose=2)\n",
    "grid.fit(X_train, y_train)\n",
    "tree = grid.best_estimator_"
   ]
  },
  {
   "cell_type": "code",
   "execution_count": 75,
   "metadata": {},
   "outputs": [
    {
     "name": "stdout",
     "output_type": "stream",
     "text": [
      "Best parameters are:  {'min_samples_leaf': 5, 'min_samples_split': 5}\n",
      "0.843428166319\n"
     ]
    }
   ],
   "source": [
    "print(\"Best parameters are: \", grid.best_params_)\n",
    "pred = tree.predict(X_test)\n",
    "score = explained_variance_score(y_test, pred)\n",
    "print(score)"
   ]
  },
  {
   "cell_type": "markdown",
   "metadata": {},
   "source": [
    "### Random Forest"
   ]
  },
  {
   "cell_type": "code",
   "execution_count": 76,
   "metadata": {},
   "outputs": [
    {
     "name": "stdout",
     "output_type": "stream",
     "text": [
      "Fitting 3 folds for each of 9 candidates, totalling 27 fits\n",
      "[CV] min_samples_leaf=2, min_samples_split=2 .........................\n",
      "[CV] .......... min_samples_leaf=2, min_samples_split=2, total= 3.2min\n",
      "[CV] min_samples_leaf=2, min_samples_split=2 .........................\n"
     ]
    },
    {
     "name": "stderr",
     "output_type": "stream",
     "text": [
      "[Parallel(n_jobs=1)]: Done   1 out of   1 | elapsed:  3.3min remaining:    0.0s\n"
     ]
    },
    {
     "name": "stdout",
     "output_type": "stream",
     "text": [
      "[CV] .......... min_samples_leaf=2, min_samples_split=2, total= 3.1min\n",
      "[CV] min_samples_leaf=2, min_samples_split=2 .........................\n",
      "[CV] .......... min_samples_leaf=2, min_samples_split=2, total= 3.2min\n",
      "[CV] min_samples_leaf=2, min_samples_split=3 .........................\n",
      "[CV] .......... min_samples_leaf=2, min_samples_split=3, total= 3.2min\n",
      "[CV] min_samples_leaf=2, min_samples_split=3 .........................\n",
      "[CV] .......... min_samples_leaf=2, min_samples_split=3, total= 3.1min\n",
      "[CV] min_samples_leaf=2, min_samples_split=3 .........................\n",
      "[CV] .......... min_samples_leaf=2, min_samples_split=3, total= 3.1min\n",
      "[CV] min_samples_leaf=2, min_samples_split=5 .........................\n",
      "[CV] .......... min_samples_leaf=2, min_samples_split=5, total= 3.1min\n",
      "[CV] min_samples_leaf=2, min_samples_split=5 .........................\n",
      "[CV] .......... min_samples_leaf=2, min_samples_split=5, total= 3.1min\n",
      "[CV] min_samples_leaf=2, min_samples_split=5 .........................\n",
      "[CV] .......... min_samples_leaf=2, min_samples_split=5, total= 3.1min\n",
      "[CV] min_samples_leaf=3, min_samples_split=2 .........................\n",
      "[CV] .......... min_samples_leaf=3, min_samples_split=2, total= 3.1min\n",
      "[CV] min_samples_leaf=3, min_samples_split=2 .........................\n",
      "[CV] .......... min_samples_leaf=3, min_samples_split=2, total= 3.0min\n",
      "[CV] min_samples_leaf=3, min_samples_split=2 .........................\n",
      "[CV] .......... min_samples_leaf=3, min_samples_split=2, total= 3.0min\n",
      "[CV] min_samples_leaf=3, min_samples_split=3 .........................\n",
      "[CV] .......... min_samples_leaf=3, min_samples_split=3, total= 3.0min\n",
      "[CV] min_samples_leaf=3, min_samples_split=3 .........................\n",
      "[CV] .......... min_samples_leaf=3, min_samples_split=3, total= 3.0min\n",
      "[CV] min_samples_leaf=3, min_samples_split=3 .........................\n",
      "[CV] .......... min_samples_leaf=3, min_samples_split=3, total= 3.0min\n",
      "[CV] min_samples_leaf=3, min_samples_split=5 .........................\n",
      "[CV] .......... min_samples_leaf=3, min_samples_split=5, total= 3.0min\n",
      "[CV] min_samples_leaf=3, min_samples_split=5 .........................\n",
      "[CV] .......... min_samples_leaf=3, min_samples_split=5, total= 3.0min\n",
      "[CV] min_samples_leaf=3, min_samples_split=5 .........................\n",
      "[CV] .......... min_samples_leaf=3, min_samples_split=5, total= 2.9min\n",
      "[CV] min_samples_leaf=5, min_samples_split=2 .........................\n",
      "[CV] .......... min_samples_leaf=5, min_samples_split=2, total= 2.9min\n",
      "[CV] min_samples_leaf=5, min_samples_split=2 .........................\n",
      "[CV] .......... min_samples_leaf=5, min_samples_split=2, total= 3.0min\n",
      "[CV] min_samples_leaf=5, min_samples_split=2 .........................\n",
      "[CV] .......... min_samples_leaf=5, min_samples_split=2, total= 2.9min\n",
      "[CV] min_samples_leaf=5, min_samples_split=3 .........................\n",
      "[CV] .......... min_samples_leaf=5, min_samples_split=3, total= 2.9min\n",
      "[CV] min_samples_leaf=5, min_samples_split=3 .........................\n",
      "[CV] .......... min_samples_leaf=5, min_samples_split=3, total= 2.9min\n",
      "[CV] min_samples_leaf=5, min_samples_split=3 .........................\n",
      "[CV] .......... min_samples_leaf=5, min_samples_split=3, total= 2.9min\n",
      "[CV] min_samples_leaf=5, min_samples_split=5 .........................\n",
      "[CV] .......... min_samples_leaf=5, min_samples_split=5, total= 3.0min\n",
      "[CV] min_samples_leaf=5, min_samples_split=5 .........................\n",
      "[CV] .......... min_samples_leaf=5, min_samples_split=5, total= 2.9min\n",
      "[CV] min_samples_leaf=5, min_samples_split=5 .........................\n",
      "[CV] .......... min_samples_leaf=5, min_samples_split=5, total= 2.9min\n"
     ]
    },
    {
     "name": "stderr",
     "output_type": "stream",
     "text": [
      "[Parallel(n_jobs=1)]: Done  27 out of  27 | elapsed: 84.2min finished\n"
     ]
    }
   ],
   "source": [
    "parameters = {\n",
    "    'min_samples_split': [2, 3, 5],\n",
    "    'min_samples_leaf': [2, 3, 5]\n",
    "}\n",
    "grid = GridSearchCV(RandomForestRegressor(), param_grid=parameters, scoring=scorer, cv=cv, verbose=2)\n",
    "grid.fit(X_train, y_train)\n",
    "rf = grid.best_estimator_"
   ]
  },
  {
   "cell_type": "code",
   "execution_count": 77,
   "metadata": {},
   "outputs": [
    {
     "name": "stdout",
     "output_type": "stream",
     "text": [
      "Best parameters are:  {'min_samples_leaf': 2, 'min_samples_split': 5}\n",
      "0.885500685306\n"
     ]
    }
   ],
   "source": [
    "print(\"Best parameters are: \", grid.best_params_)\n",
    "pred = rf.predict(X_test)\n",
    "score = explained_variance_score(y_test, pred)\n",
    "print(score)"
   ]
  },
  {
   "cell_type": "code",
   "execution_count": 81,
   "metadata": {},
   "outputs": [
    {
     "name": "stdout",
     "output_type": "stream",
     "text": [
      "[CV]  ................................................................\n",
      "[CV] ................................................. , total=  29.8s\n",
      "[CV]  ................................................................\n"
     ]
    },
    {
     "name": "stderr",
     "output_type": "stream",
     "text": [
      "[Parallel(n_jobs=1)]: Done   1 out of   1 | elapsed:   29.8s remaining:    0.0s\n"
     ]
    },
    {
     "name": "stdout",
     "output_type": "stream",
     "text": [
      "[CV] ................................................. , total=  29.8s\n",
      "[CV]  ................................................................\n",
      "[CV] ................................................. , total=  31.0s\n"
     ]
    },
    {
     "name": "stderr",
     "output_type": "stream",
     "text": [
      "[Parallel(n_jobs=1)]: Done   3 out of   3 | elapsed:  1.5min finished\n"
     ]
    }
   ],
   "source": [
    "scores = cross_val_score(rf, X_test, y_test, cv=3, scoring=scorer, verbose=2)"
   ]
  },
  {
   "cell_type": "code",
   "execution_count": 83,
   "metadata": {},
   "outputs": [
    {
     "name": "stdout",
     "output_type": "stream",
     "text": [
      "Average Score is 0.8642710633864549, with std of 0.008536709482888729\n"
     ]
    }
   ],
   "source": [
    "print(\"Average Score is {}, with std of {}\".format(np.mean(scores), np.std(scores)))"
   ]
  },
  {
   "cell_type": "markdown",
   "metadata": {},
   "source": [
    "### KNN"
   ]
  },
  {
   "cell_type": "code",
   "execution_count": null,
   "metadata": {},
   "outputs": [],
   "source": [
    "knn = KNeighborsRegressor()\n",
    "knn.fit(X_train, y_train)\n",
    "pred = knn.predict(X_test)\n",
    "score = explained_variance_score(y_test, pred)\n",
    "print(score)"
   ]
  },
  {
   "cell_type": "code",
   "execution_count": null,
   "metadata": {},
   "outputs": [
    {
     "name": "stdout",
     "output_type": "stream",
     "text": [
      "Fitting 3 folds for each of 4 candidates, totalling 12 fits\n",
      "[CV] n_neighbors=50 ..................................................\n"
     ]
    }
   ],
   "source": [
    "parameters = {\n",
    "    'n_neighbors': [50, 100, 200, 500]\n",
    "}\n",
    "\n",
    "grid = GridSearchCV(KNeighborsRegressor(), param_grid=parameters, scoring=scorer, cv=cv, verbose=2)\n",
    "grid.fit(X_train, y_train)\n",
    "knn = grid.best_estimator_\n",
    "\n",
    "print(\"Best parameters are: \", grid.best_params_)"
   ]
  },
  {
   "cell_type": "code",
   "execution_count": null,
   "metadata": {
    "collapsed": true
   },
   "outputs": [],
   "source": [
    "pred = knn.predict(X_test)\n",
    "score = explained_variance_score(y_test, pred)\n",
    "print(score)"
   ]
  },
  {
   "cell_type": "markdown",
   "metadata": {},
   "source": [
    "### MLP"
   ]
  },
  {
   "cell_type": "code",
   "execution_count": null,
   "metadata": {},
   "outputs": [
    {
     "name": "stdout",
     "output_type": "stream",
     "text": [
      "Fitting 3 folds for each of 8 candidates, totalling 24 fits\n",
      "[CV] hidden_layer_sizes=50, alpha=0.001, learning_rate=constant ......\n"
     ]
    }
   ],
   "source": [
    "parameters = {\n",
    "    'hidden_layer_sizes': [50, 100],\n",
    "    'alpha': [0.001, 0.0001],\n",
    "    'learning_rate': ['constant', 'invscaling']\n",
    "}\n",
    "\n",
    "grid = GridSearchCV(MLPRegressor(), param_grid=parameters, scoring=scorer, cv=cv, verbose=2)\n",
    "grid.fit(X_train, y_train)\n",
    "mlp = grid.best_estimator_\n",
    "\n",
    "print(\"Best parameters are: \", grid.best_params_)"
   ]
  },
  {
   "cell_type": "code",
   "execution_count": null,
   "metadata": {
    "collapsed": true
   },
   "outputs": [],
   "source": [
    "pred = mlp.predict(X_test)\n",
    "score = explained_variance_score(y_test, pred)\n",
    "print(score)"
   ]
  }
 ],
 "metadata": {
  "kernelspec": {
   "display_name": "Python 3",
   "language": "python",
   "name": "python3"
  },
  "language_info": {
   "codemirror_mode": {
    "name": "ipython",
    "version": 3
   },
   "file_extension": ".py",
   "mimetype": "text/x-python",
   "name": "python",
   "nbconvert_exporter": "python",
   "pygments_lexer": "ipython3",
   "version": "3.7.3"
  }
 },
 "nbformat": 4,
 "nbformat_minor": 2
}
